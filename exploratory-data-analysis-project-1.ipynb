{
 "cells": [
  {
   "cell_type": "markdown",
   "id": "4a4d3c2d",
   "metadata": {
    "_cell_guid": "b1076dfc-b9ad-4769-8c92-a6c4dae69d19",
    "_uuid": "8f2839f25d086af736a60e9eeb907d3b93b6e0e5",
    "papermill": {
     "duration": 0.010104,
     "end_time": "2022-10-25T12:49:01.277325",
     "exception": false,
     "start_time": "2022-10-25T12:49:01.267221",
     "status": "completed"
    },
    "tags": []
   },
   "source": [
    "## Steps 0: Imports and Reading Data"
   ]
  },
  {
   "cell_type": "markdown",
   "id": "59ea6918",
   "metadata": {
    "papermill": {
     "duration": 0.007531,
     "end_time": "2022-10-25T12:49:01.293212",
     "exception": false,
     "start_time": "2022-10-25T12:49:01.285681",
     "status": "completed"
    },
    "tags": []
   },
   "source": []
  },
  {
   "cell_type": "code",
   "execution_count": 1,
   "id": "55f63ec4",
   "metadata": {
    "execution": {
     "iopub.execute_input": "2022-10-25T12:49:01.311641Z",
     "iopub.status.busy": "2022-10-25T12:49:01.310827Z",
     "iopub.status.idle": "2022-10-25T12:49:02.395131Z",
     "shell.execute_reply": "2022-10-25T12:49:02.393905Z"
    },
    "papermill": {
     "duration": 1.096762,
     "end_time": "2022-10-25T12:49:02.397885",
     "exception": false,
     "start_time": "2022-10-25T12:49:01.301123",
     "status": "completed"
    },
    "tags": []
   },
   "outputs": [],
   "source": [
    "import pandas as pd\n",
    "import numpy as np\n",
    "import matplotlib.pylab as plt\n",
    "import seaborn as sns\n",
    "plt.style.use('ggplot')\n",
    "pd.set_option('max_columns',200)"
   ]
  },
  {
   "cell_type": "code",
   "execution_count": 2,
   "id": "3aac4ff1",
   "metadata": {
    "execution": {
     "iopub.execute_input": "2022-10-25T12:49:02.416481Z",
     "iopub.status.busy": "2022-10-25T12:49:02.415679Z",
     "iopub.status.idle": "2022-10-25T12:49:02.465936Z",
     "shell.execute_reply": "2022-10-25T12:49:02.465066Z"
    },
    "papermill": {
     "duration": 0.061871,
     "end_time": "2022-10-25T12:49:02.468289",
     "exception": false,
     "start_time": "2022-10-25T12:49:02.406418",
     "status": "completed"
    },
    "tags": []
   },
   "outputs": [],
   "source": [
    "df=pd.read_csv('../input/rollercoaster-database/coaster_db.csv')"
   ]
  },
  {
   "cell_type": "markdown",
   "id": "c0b55734",
   "metadata": {
    "papermill": {
     "duration": 0.007825,
     "end_time": "2022-10-25T12:49:02.484495",
     "exception": false,
     "start_time": "2022-10-25T12:49:02.476670",
     "status": "completed"
    },
    "tags": []
   },
   "source": [
    "# Data Understanding"
   ]
  },
  {
   "cell_type": "code",
   "execution_count": 3,
   "id": "281b9eef",
   "metadata": {
    "execution": {
     "iopub.execute_input": "2022-10-25T12:49:02.504779Z",
     "iopub.status.busy": "2022-10-25T12:49:02.503647Z",
     "iopub.status.idle": "2022-10-25T12:49:02.513448Z",
     "shell.execute_reply": "2022-10-25T12:49:02.512301Z"
    },
    "papermill": {
     "duration": 0.021504,
     "end_time": "2022-10-25T12:49:02.515788",
     "exception": false,
     "start_time": "2022-10-25T12:49:02.494284",
     "status": "completed"
    },
    "tags": []
   },
   "outputs": [
    {
     "data": {
      "text/plain": [
       "(1087, 56)"
      ]
     },
     "execution_count": 3,
     "metadata": {},
     "output_type": "execute_result"
    }
   ],
   "source": [
    "df.shape"
   ]
  },
  {
   "cell_type": "code",
   "execution_count": 4,
   "id": "cc1df810",
   "metadata": {
    "execution": {
     "iopub.execute_input": "2022-10-25T12:49:02.534621Z",
     "iopub.status.busy": "2022-10-25T12:49:02.533915Z",
     "iopub.status.idle": "2022-10-25T12:49:02.584354Z",
     "shell.execute_reply": "2022-10-25T12:49:02.583289Z"
    },
    "papermill": {
     "duration": 0.062566,
     "end_time": "2022-10-25T12:49:02.586927",
     "exception": false,
     "start_time": "2022-10-25T12:49:02.524361",
     "status": "completed"
    },
    "tags": []
   },
   "outputs": [
    {
     "data": {
      "text/html": [
       "<div>\n",
       "<style scoped>\n",
       "    .dataframe tbody tr th:only-of-type {\n",
       "        vertical-align: middle;\n",
       "    }\n",
       "\n",
       "    .dataframe tbody tr th {\n",
       "        vertical-align: top;\n",
       "    }\n",
       "\n",
       "    .dataframe thead th {\n",
       "        text-align: right;\n",
       "    }\n",
       "</style>\n",
       "<table border=\"1\" class=\"dataframe\">\n",
       "  <thead>\n",
       "    <tr style=\"text-align: right;\">\n",
       "      <th></th>\n",
       "      <th>coaster_name</th>\n",
       "      <th>Length</th>\n",
       "      <th>Speed</th>\n",
       "      <th>Location</th>\n",
       "      <th>Status</th>\n",
       "      <th>Opening date</th>\n",
       "      <th>Type</th>\n",
       "      <th>Manufacturer</th>\n",
       "      <th>Height restriction</th>\n",
       "      <th>Model</th>\n",
       "      <th>Height</th>\n",
       "      <th>Inversions</th>\n",
       "      <th>Lift/launch system</th>\n",
       "      <th>Cost</th>\n",
       "      <th>Trains</th>\n",
       "      <th>Park section</th>\n",
       "      <th>Duration</th>\n",
       "      <th>Capacity</th>\n",
       "      <th>G-force</th>\n",
       "      <th>Designer</th>\n",
       "      <th>Max vertical angle</th>\n",
       "      <th>Drop</th>\n",
       "      <th>Soft opening date</th>\n",
       "      <th>Fast Lane available</th>\n",
       "      <th>Replaced</th>\n",
       "      <th>Track layout</th>\n",
       "      <th>Fastrack available</th>\n",
       "      <th>Soft opening date.1</th>\n",
       "      <th>Closing date</th>\n",
       "      <th>Opened</th>\n",
       "      <th>Replaced by</th>\n",
       "      <th>Website</th>\n",
       "      <th>Flash Pass Available</th>\n",
       "      <th>Must transfer from wheelchair</th>\n",
       "      <th>Theme</th>\n",
       "      <th>Single rider line available</th>\n",
       "      <th>Restraint Style</th>\n",
       "      <th>Flash Pass available</th>\n",
       "      <th>Acceleration</th>\n",
       "      <th>Restraints</th>\n",
       "      <th>Name</th>\n",
       "      <th>year_introduced</th>\n",
       "      <th>latitude</th>\n",
       "      <th>longitude</th>\n",
       "      <th>Type_Main</th>\n",
       "      <th>opening_date_clean</th>\n",
       "      <th>speed1</th>\n",
       "      <th>speed2</th>\n",
       "      <th>speed1_value</th>\n",
       "      <th>speed1_unit</th>\n",
       "      <th>speed_mph</th>\n",
       "      <th>height_value</th>\n",
       "      <th>height_unit</th>\n",
       "      <th>height_ft</th>\n",
       "      <th>Inversions_clean</th>\n",
       "      <th>Gforce_clean</th>\n",
       "    </tr>\n",
       "  </thead>\n",
       "  <tbody>\n",
       "    <tr>\n",
       "      <th>0</th>\n",
       "      <td>Switchback Railway</td>\n",
       "      <td>600 ft (180 m)</td>\n",
       "      <td>6 mph (9.7 km/h)</td>\n",
       "      <td>Coney Island</td>\n",
       "      <td>Removed</td>\n",
       "      <td>June 16, 1884</td>\n",
       "      <td>Wood</td>\n",
       "      <td>LaMarcus Adna Thompson</td>\n",
       "      <td>NaN</td>\n",
       "      <td>Lift Packed</td>\n",
       "      <td>50 ft (15 m)</td>\n",
       "      <td>NaN</td>\n",
       "      <td>gravity</td>\n",
       "      <td>NaN</td>\n",
       "      <td>NaN</td>\n",
       "      <td>Coney Island Cyclone Site</td>\n",
       "      <td>1:00</td>\n",
       "      <td>1600 riders per hour</td>\n",
       "      <td>2.9</td>\n",
       "      <td>LaMarcus Adna Thompson</td>\n",
       "      <td>30°</td>\n",
       "      <td>43 ft (13 m)</td>\n",
       "      <td>NaN</td>\n",
       "      <td>NaN</td>\n",
       "      <td>NaN</td>\n",
       "      <td>Gravity pulled coaster</td>\n",
       "      <td>NaN</td>\n",
       "      <td>NaN</td>\n",
       "      <td>NaN</td>\n",
       "      <td>NaN</td>\n",
       "      <td>NaN</td>\n",
       "      <td>NaN</td>\n",
       "      <td>NaN</td>\n",
       "      <td>NaN</td>\n",
       "      <td>NaN</td>\n",
       "      <td>NaN</td>\n",
       "      <td>NaN</td>\n",
       "      <td>NaN</td>\n",
       "      <td>NaN</td>\n",
       "      <td>NaN</td>\n",
       "      <td>NaN</td>\n",
       "      <td>1884</td>\n",
       "      <td>40.5740</td>\n",
       "      <td>-73.9780</td>\n",
       "      <td>Wood</td>\n",
       "      <td>1884-06-16</td>\n",
       "      <td>6 mph</td>\n",
       "      <td>9.7 km/h</td>\n",
       "      <td>6.0</td>\n",
       "      <td>mph</td>\n",
       "      <td>6.0</td>\n",
       "      <td>50.0</td>\n",
       "      <td>ft</td>\n",
       "      <td>NaN</td>\n",
       "      <td>0</td>\n",
       "      <td>2.9</td>\n",
       "    </tr>\n",
       "    <tr>\n",
       "      <th>1</th>\n",
       "      <td>Flip Flap Railway</td>\n",
       "      <td>NaN</td>\n",
       "      <td>NaN</td>\n",
       "      <td>Sea Lion Park</td>\n",
       "      <td>Removed</td>\n",
       "      <td>1895</td>\n",
       "      <td>Wood</td>\n",
       "      <td>Lina Beecher</td>\n",
       "      <td>NaN</td>\n",
       "      <td>NaN</td>\n",
       "      <td>NaN</td>\n",
       "      <td>1.0</td>\n",
       "      <td>NaN</td>\n",
       "      <td>NaN</td>\n",
       "      <td>a single car. Riders are arranged 1 across in ...</td>\n",
       "      <td>NaN</td>\n",
       "      <td>NaN</td>\n",
       "      <td>NaN</td>\n",
       "      <td>12</td>\n",
       "      <td>Lina Beecher</td>\n",
       "      <td>NaN</td>\n",
       "      <td>NaN</td>\n",
       "      <td>NaN</td>\n",
       "      <td>NaN</td>\n",
       "      <td>NaN</td>\n",
       "      <td>NaN</td>\n",
       "      <td>NaN</td>\n",
       "      <td>NaN</td>\n",
       "      <td>1902</td>\n",
       "      <td>NaN</td>\n",
       "      <td>NaN</td>\n",
       "      <td>NaN</td>\n",
       "      <td>NaN</td>\n",
       "      <td>NaN</td>\n",
       "      <td>NaN</td>\n",
       "      <td>NaN</td>\n",
       "      <td>NaN</td>\n",
       "      <td>NaN</td>\n",
       "      <td>NaN</td>\n",
       "      <td>NaN</td>\n",
       "      <td>NaN</td>\n",
       "      <td>1895</td>\n",
       "      <td>40.5780</td>\n",
       "      <td>-73.9790</td>\n",
       "      <td>Wood</td>\n",
       "      <td>1895-01-01</td>\n",
       "      <td>NaN</td>\n",
       "      <td>NaN</td>\n",
       "      <td>NaN</td>\n",
       "      <td>NaN</td>\n",
       "      <td>NaN</td>\n",
       "      <td>NaN</td>\n",
       "      <td>NaN</td>\n",
       "      <td>NaN</td>\n",
       "      <td>1</td>\n",
       "      <td>12.0</td>\n",
       "    </tr>\n",
       "    <tr>\n",
       "      <th>2</th>\n",
       "      <td>Switchback Railway (Euclid Beach Park)</td>\n",
       "      <td>NaN</td>\n",
       "      <td>NaN</td>\n",
       "      <td>Cleveland, Ohio, United States</td>\n",
       "      <td>Closed</td>\n",
       "      <td>NaN</td>\n",
       "      <td>Other</td>\n",
       "      <td>NaN</td>\n",
       "      <td>NaN</td>\n",
       "      <td>NaN</td>\n",
       "      <td>NaN</td>\n",
       "      <td>NaN</td>\n",
       "      <td>NaN</td>\n",
       "      <td>NaN</td>\n",
       "      <td>NaN</td>\n",
       "      <td>NaN</td>\n",
       "      <td>NaN</td>\n",
       "      <td>NaN</td>\n",
       "      <td>NaN</td>\n",
       "      <td>NaN</td>\n",
       "      <td>NaN</td>\n",
       "      <td>NaN</td>\n",
       "      <td>NaN</td>\n",
       "      <td>NaN</td>\n",
       "      <td>NaN</td>\n",
       "      <td>NaN</td>\n",
       "      <td>NaN</td>\n",
       "      <td>NaN</td>\n",
       "      <td>NaN</td>\n",
       "      <td>1895</td>\n",
       "      <td>NaN</td>\n",
       "      <td>NaN</td>\n",
       "      <td>NaN</td>\n",
       "      <td>NaN</td>\n",
       "      <td>NaN</td>\n",
       "      <td>NaN</td>\n",
       "      <td>NaN</td>\n",
       "      <td>NaN</td>\n",
       "      <td>NaN</td>\n",
       "      <td>NaN</td>\n",
       "      <td>NaN</td>\n",
       "      <td>1896</td>\n",
       "      <td>41.5800</td>\n",
       "      <td>-81.5700</td>\n",
       "      <td>Other</td>\n",
       "      <td>NaN</td>\n",
       "      <td>NaN</td>\n",
       "      <td>NaN</td>\n",
       "      <td>NaN</td>\n",
       "      <td>NaN</td>\n",
       "      <td>NaN</td>\n",
       "      <td>NaN</td>\n",
       "      <td>NaN</td>\n",
       "      <td>NaN</td>\n",
       "      <td>0</td>\n",
       "      <td>NaN</td>\n",
       "    </tr>\n",
       "    <tr>\n",
       "      <th>3</th>\n",
       "      <td>Loop the Loop (Coney Island)</td>\n",
       "      <td>NaN</td>\n",
       "      <td>NaN</td>\n",
       "      <td>Other</td>\n",
       "      <td>Removed</td>\n",
       "      <td>1901</td>\n",
       "      <td>Steel</td>\n",
       "      <td>Edwin Prescott</td>\n",
       "      <td>NaN</td>\n",
       "      <td>NaN</td>\n",
       "      <td>NaN</td>\n",
       "      <td>1.0</td>\n",
       "      <td>NaN</td>\n",
       "      <td>NaN</td>\n",
       "      <td>a single car. Riders are arranged 2 across in ...</td>\n",
       "      <td>NaN</td>\n",
       "      <td>NaN</td>\n",
       "      <td>NaN</td>\n",
       "      <td>NaN</td>\n",
       "      <td>Edward A. Green</td>\n",
       "      <td>NaN</td>\n",
       "      <td>NaN</td>\n",
       "      <td>NaN</td>\n",
       "      <td>NaN</td>\n",
       "      <td>Switchback Railway</td>\n",
       "      <td>NaN</td>\n",
       "      <td>NaN</td>\n",
       "      <td>NaN</td>\n",
       "      <td>1910</td>\n",
       "      <td>NaN</td>\n",
       "      <td>Giant Racer</td>\n",
       "      <td>NaN</td>\n",
       "      <td>NaN</td>\n",
       "      <td>NaN</td>\n",
       "      <td>NaN</td>\n",
       "      <td>NaN</td>\n",
       "      <td>NaN</td>\n",
       "      <td>NaN</td>\n",
       "      <td>NaN</td>\n",
       "      <td>NaN</td>\n",
       "      <td>NaN</td>\n",
       "      <td>1901</td>\n",
       "      <td>40.5745</td>\n",
       "      <td>-73.9780</td>\n",
       "      <td>Steel</td>\n",
       "      <td>1901-01-01</td>\n",
       "      <td>NaN</td>\n",
       "      <td>NaN</td>\n",
       "      <td>NaN</td>\n",
       "      <td>NaN</td>\n",
       "      <td>NaN</td>\n",
       "      <td>NaN</td>\n",
       "      <td>NaN</td>\n",
       "      <td>NaN</td>\n",
       "      <td>1</td>\n",
       "      <td>NaN</td>\n",
       "    </tr>\n",
       "    <tr>\n",
       "      <th>4</th>\n",
       "      <td>Loop the Loop (Young's Pier)</td>\n",
       "      <td>NaN</td>\n",
       "      <td>NaN</td>\n",
       "      <td>Other</td>\n",
       "      <td>Removed</td>\n",
       "      <td>1901</td>\n",
       "      <td>Steel</td>\n",
       "      <td>Edwin Prescott</td>\n",
       "      <td>NaN</td>\n",
       "      <td>NaN</td>\n",
       "      <td>NaN</td>\n",
       "      <td>1.0</td>\n",
       "      <td>NaN</td>\n",
       "      <td>NaN</td>\n",
       "      <td>NaN</td>\n",
       "      <td>NaN</td>\n",
       "      <td>NaN</td>\n",
       "      <td>NaN</td>\n",
       "      <td>NaN</td>\n",
       "      <td>Edward A. Green</td>\n",
       "      <td>NaN</td>\n",
       "      <td>NaN</td>\n",
       "      <td>NaN</td>\n",
       "      <td>NaN</td>\n",
       "      <td>NaN</td>\n",
       "      <td>NaN</td>\n",
       "      <td>NaN</td>\n",
       "      <td>NaN</td>\n",
       "      <td>1912</td>\n",
       "      <td>NaN</td>\n",
       "      <td>NaN</td>\n",
       "      <td>NaN</td>\n",
       "      <td>NaN</td>\n",
       "      <td>NaN</td>\n",
       "      <td>NaN</td>\n",
       "      <td>NaN</td>\n",
       "      <td>NaN</td>\n",
       "      <td>NaN</td>\n",
       "      <td>NaN</td>\n",
       "      <td>NaN</td>\n",
       "      <td>NaN</td>\n",
       "      <td>1901</td>\n",
       "      <td>39.3538</td>\n",
       "      <td>-74.4342</td>\n",
       "      <td>Steel</td>\n",
       "      <td>1901-01-01</td>\n",
       "      <td>NaN</td>\n",
       "      <td>NaN</td>\n",
       "      <td>NaN</td>\n",
       "      <td>NaN</td>\n",
       "      <td>NaN</td>\n",
       "      <td>NaN</td>\n",
       "      <td>NaN</td>\n",
       "      <td>NaN</td>\n",
       "      <td>1</td>\n",
       "      <td>NaN</td>\n",
       "    </tr>\n",
       "  </tbody>\n",
       "</table>\n",
       "</div>"
      ],
      "text/plain": [
       "                             coaster_name          Length             Speed  \\\n",
       "0                      Switchback Railway  600 ft (180 m)  6 mph (9.7 km/h)   \n",
       "1                       Flip Flap Railway             NaN               NaN   \n",
       "2  Switchback Railway (Euclid Beach Park)             NaN               NaN   \n",
       "3            Loop the Loop (Coney Island)             NaN               NaN   \n",
       "4            Loop the Loop (Young's Pier)             NaN               NaN   \n",
       "\n",
       "                         Location   Status   Opening date   Type  \\\n",
       "0                    Coney Island  Removed  June 16, 1884   Wood   \n",
       "1                   Sea Lion Park  Removed           1895   Wood   \n",
       "2  Cleveland, Ohio, United States   Closed            NaN  Other   \n",
       "3                           Other  Removed           1901  Steel   \n",
       "4                           Other  Removed           1901  Steel   \n",
       "\n",
       "             Manufacturer Height restriction        Model        Height  \\\n",
       "0  LaMarcus Adna Thompson                NaN  Lift Packed  50 ft (15 m)   \n",
       "1            Lina Beecher                NaN          NaN           NaN   \n",
       "2                     NaN                NaN          NaN           NaN   \n",
       "3          Edwin Prescott                NaN          NaN           NaN   \n",
       "4          Edwin Prescott                NaN          NaN           NaN   \n",
       "\n",
       "   Inversions Lift/launch system Cost  \\\n",
       "0         NaN            gravity  NaN   \n",
       "1         1.0                NaN  NaN   \n",
       "2         NaN                NaN  NaN   \n",
       "3         1.0                NaN  NaN   \n",
       "4         1.0                NaN  NaN   \n",
       "\n",
       "                                              Trains  \\\n",
       "0                                                NaN   \n",
       "1  a single car. Riders are arranged 1 across in ...   \n",
       "2                                                NaN   \n",
       "3  a single car. Riders are arranged 2 across in ...   \n",
       "4                                                NaN   \n",
       "\n",
       "                Park section Duration              Capacity G-force  \\\n",
       "0  Coney Island Cyclone Site     1:00  1600 riders per hour     2.9   \n",
       "1                        NaN      NaN                   NaN      12   \n",
       "2                        NaN      NaN                   NaN     NaN   \n",
       "3                        NaN      NaN                   NaN     NaN   \n",
       "4                        NaN      NaN                   NaN     NaN   \n",
       "\n",
       "                 Designer Max vertical angle          Drop Soft opening date  \\\n",
       "0  LaMarcus Adna Thompson                30°  43 ft (13 m)               NaN   \n",
       "1            Lina Beecher                NaN           NaN               NaN   \n",
       "2                     NaN                NaN           NaN               NaN   \n",
       "3         Edward A. Green                NaN           NaN               NaN   \n",
       "4         Edward A. Green                NaN           NaN               NaN   \n",
       "\n",
       "  Fast Lane available            Replaced            Track layout  \\\n",
       "0                 NaN                 NaN  Gravity pulled coaster   \n",
       "1                 NaN                 NaN                     NaN   \n",
       "2                 NaN                 NaN                     NaN   \n",
       "3                 NaN  Switchback Railway                     NaN   \n",
       "4                 NaN                 NaN                     NaN   \n",
       "\n",
       "  Fastrack available Soft opening date.1 Closing date Opened  Replaced by  \\\n",
       "0                NaN                 NaN          NaN    NaN          NaN   \n",
       "1                NaN                 NaN         1902    NaN          NaN   \n",
       "2                NaN                 NaN          NaN   1895          NaN   \n",
       "3                NaN                 NaN         1910    NaN  Giant Racer   \n",
       "4                NaN                 NaN         1912    NaN          NaN   \n",
       "\n",
       "  Website Flash Pass Available Must transfer from wheelchair Theme  \\\n",
       "0     NaN                  NaN                           NaN   NaN   \n",
       "1     NaN                  NaN                           NaN   NaN   \n",
       "2     NaN                  NaN                           NaN   NaN   \n",
       "3     NaN                  NaN                           NaN   NaN   \n",
       "4     NaN                  NaN                           NaN   NaN   \n",
       "\n",
       "  Single rider line available Restraint Style Flash Pass available  \\\n",
       "0                         NaN             NaN                  NaN   \n",
       "1                         NaN             NaN                  NaN   \n",
       "2                         NaN             NaN                  NaN   \n",
       "3                         NaN             NaN                  NaN   \n",
       "4                         NaN             NaN                  NaN   \n",
       "\n",
       "  Acceleration Restraints Name  year_introduced  latitude  longitude  \\\n",
       "0          NaN        NaN  NaN             1884   40.5740   -73.9780   \n",
       "1          NaN        NaN  NaN             1895   40.5780   -73.9790   \n",
       "2          NaN        NaN  NaN             1896   41.5800   -81.5700   \n",
       "3          NaN        NaN  NaN             1901   40.5745   -73.9780   \n",
       "4          NaN        NaN  NaN             1901   39.3538   -74.4342   \n",
       "\n",
       "  Type_Main opening_date_clean  speed1    speed2  speed1_value speed1_unit  \\\n",
       "0      Wood         1884-06-16  6 mph   9.7 km/h           6.0         mph   \n",
       "1      Wood         1895-01-01     NaN       NaN           NaN         NaN   \n",
       "2     Other                NaN     NaN       NaN           NaN         NaN   \n",
       "3     Steel         1901-01-01     NaN       NaN           NaN         NaN   \n",
       "4     Steel         1901-01-01     NaN       NaN           NaN         NaN   \n",
       "\n",
       "   speed_mph  height_value height_unit  height_ft  Inversions_clean  \\\n",
       "0        6.0          50.0          ft        NaN                 0   \n",
       "1        NaN           NaN         NaN        NaN                 1   \n",
       "2        NaN           NaN         NaN        NaN                 0   \n",
       "3        NaN           NaN         NaN        NaN                 1   \n",
       "4        NaN           NaN         NaN        NaN                 1   \n",
       "\n",
       "   Gforce_clean  \n",
       "0           2.9  \n",
       "1          12.0  \n",
       "2           NaN  \n",
       "3           NaN  \n",
       "4           NaN  "
      ]
     },
     "execution_count": 4,
     "metadata": {},
     "output_type": "execute_result"
    }
   ],
   "source": [
    "df.head()"
   ]
  },
  {
   "cell_type": "code",
   "execution_count": 5,
   "id": "41c21a11",
   "metadata": {
    "execution": {
     "iopub.execute_input": "2022-10-25T12:49:02.607328Z",
     "iopub.status.busy": "2022-10-25T12:49:02.606906Z",
     "iopub.status.idle": "2022-10-25T12:49:02.614401Z",
     "shell.execute_reply": "2022-10-25T12:49:02.613266Z"
    },
    "papermill": {
     "duration": 0.020194,
     "end_time": "2022-10-25T12:49:02.616609",
     "exception": false,
     "start_time": "2022-10-25T12:49:02.596415",
     "status": "completed"
    },
    "tags": []
   },
   "outputs": [
    {
     "data": {
      "text/plain": [
       "Index(['coaster_name', 'Length', 'Speed', 'Location', 'Status', 'Opening date',\n",
       "       'Type', 'Manufacturer', 'Height restriction', 'Model', 'Height',\n",
       "       'Inversions', 'Lift/launch system', 'Cost', 'Trains', 'Park section',\n",
       "       'Duration', 'Capacity', 'G-force', 'Designer', 'Max vertical angle',\n",
       "       'Drop', 'Soft opening date', 'Fast Lane available', 'Replaced',\n",
       "       'Track layout', 'Fastrack available', 'Soft opening date.1',\n",
       "       'Closing date', 'Opened', 'Replaced by', 'Website',\n",
       "       'Flash Pass Available', 'Must transfer from wheelchair', 'Theme',\n",
       "       'Single rider line available', 'Restraint Style',\n",
       "       'Flash Pass available', 'Acceleration', 'Restraints', 'Name',\n",
       "       'year_introduced', 'latitude', 'longitude', 'Type_Main',\n",
       "       'opening_date_clean', 'speed1', 'speed2', 'speed1_value', 'speed1_unit',\n",
       "       'speed_mph', 'height_value', 'height_unit', 'height_ft',\n",
       "       'Inversions_clean', 'Gforce_clean'],\n",
       "      dtype='object')"
      ]
     },
     "execution_count": 5,
     "metadata": {},
     "output_type": "execute_result"
    }
   ],
   "source": [
    "df.columns"
   ]
  },
  {
   "cell_type": "code",
   "execution_count": 6,
   "id": "577b8146",
   "metadata": {
    "execution": {
     "iopub.execute_input": "2022-10-25T12:49:02.637234Z",
     "iopub.status.busy": "2022-10-25T12:49:02.636592Z",
     "iopub.status.idle": "2022-10-25T12:49:02.645513Z",
     "shell.execute_reply": "2022-10-25T12:49:02.644406Z"
    },
    "papermill": {
     "duration": 0.021744,
     "end_time": "2022-10-25T12:49:02.647571",
     "exception": false,
     "start_time": "2022-10-25T12:49:02.625827",
     "status": "completed"
    },
    "tags": []
   },
   "outputs": [
    {
     "data": {
      "text/plain": [
       "coaster_name                      object\n",
       "Length                            object\n",
       "Speed                             object\n",
       "Location                          object\n",
       "Status                            object\n",
       "Opening date                      object\n",
       "Type                              object\n",
       "Manufacturer                      object\n",
       "Height restriction                object\n",
       "Model                             object\n",
       "Height                            object\n",
       "Inversions                       float64\n",
       "Lift/launch system                object\n",
       "Cost                              object\n",
       "Trains                            object\n",
       "Park section                      object\n",
       "Duration                          object\n",
       "Capacity                          object\n",
       "G-force                           object\n",
       "Designer                          object\n",
       "Max vertical angle                object\n",
       "Drop                              object\n",
       "Soft opening date                 object\n",
       "Fast Lane available               object\n",
       "Replaced                          object\n",
       "Track layout                      object\n",
       "Fastrack available                object\n",
       "Soft opening date.1               object\n",
       "Closing date                      object\n",
       "Opened                            object\n",
       "Replaced by                       object\n",
       "Website                           object\n",
       "Flash Pass Available              object\n",
       "Must transfer from wheelchair     object\n",
       "Theme                             object\n",
       "Single rider line available       object\n",
       "Restraint Style                   object\n",
       "Flash Pass available              object\n",
       "Acceleration                      object\n",
       "Restraints                        object\n",
       "Name                              object\n",
       "year_introduced                    int64\n",
       "latitude                         float64\n",
       "longitude                        float64\n",
       "Type_Main                         object\n",
       "opening_date_clean                object\n",
       "speed1                            object\n",
       "speed2                            object\n",
       "speed1_value                     float64\n",
       "speed1_unit                       object\n",
       "speed_mph                        float64\n",
       "height_value                     float64\n",
       "height_unit                       object\n",
       "height_ft                        float64\n",
       "Inversions_clean                   int64\n",
       "Gforce_clean                     float64\n",
       "dtype: object"
      ]
     },
     "execution_count": 6,
     "metadata": {},
     "output_type": "execute_result"
    }
   ],
   "source": [
    "df.dtypes"
   ]
  },
  {
   "cell_type": "code",
   "execution_count": 7,
   "id": "10c8e8a2",
   "metadata": {
    "execution": {
     "iopub.execute_input": "2022-10-25T12:49:02.667914Z",
     "iopub.status.busy": "2022-10-25T12:49:02.667249Z",
     "iopub.status.idle": "2022-10-25T12:49:02.719790Z",
     "shell.execute_reply": "2022-10-25T12:49:02.718623Z"
    },
    "papermill": {
     "duration": 0.065324,
     "end_time": "2022-10-25T12:49:02.722201",
     "exception": false,
     "start_time": "2022-10-25T12:49:02.656877",
     "status": "completed"
    },
    "tags": []
   },
   "outputs": [
    {
     "data": {
      "text/html": [
       "<div>\n",
       "<style scoped>\n",
       "    .dataframe tbody tr th:only-of-type {\n",
       "        vertical-align: middle;\n",
       "    }\n",
       "\n",
       "    .dataframe tbody tr th {\n",
       "        vertical-align: top;\n",
       "    }\n",
       "\n",
       "    .dataframe thead th {\n",
       "        text-align: right;\n",
       "    }\n",
       "</style>\n",
       "<table border=\"1\" class=\"dataframe\">\n",
       "  <thead>\n",
       "    <tr style=\"text-align: right;\">\n",
       "      <th></th>\n",
       "      <th>Inversions</th>\n",
       "      <th>year_introduced</th>\n",
       "      <th>latitude</th>\n",
       "      <th>longitude</th>\n",
       "      <th>speed1_value</th>\n",
       "      <th>speed_mph</th>\n",
       "      <th>height_value</th>\n",
       "      <th>height_ft</th>\n",
       "      <th>Inversions_clean</th>\n",
       "      <th>Gforce_clean</th>\n",
       "    </tr>\n",
       "  </thead>\n",
       "  <tbody>\n",
       "    <tr>\n",
       "      <th>count</th>\n",
       "      <td>932.000000</td>\n",
       "      <td>1087.000000</td>\n",
       "      <td>812.000000</td>\n",
       "      <td>812.000000</td>\n",
       "      <td>937.000000</td>\n",
       "      <td>937.000000</td>\n",
       "      <td>965.000000</td>\n",
       "      <td>171.000000</td>\n",
       "      <td>1087.000000</td>\n",
       "      <td>362.000000</td>\n",
       "    </tr>\n",
       "    <tr>\n",
       "      <th>mean</th>\n",
       "      <td>1.547210</td>\n",
       "      <td>1994.986201</td>\n",
       "      <td>38.373484</td>\n",
       "      <td>-41.595373</td>\n",
       "      <td>53.850374</td>\n",
       "      <td>48.617289</td>\n",
       "      <td>89.575171</td>\n",
       "      <td>101.996491</td>\n",
       "      <td>1.326587</td>\n",
       "      <td>3.824006</td>\n",
       "    </tr>\n",
       "    <tr>\n",
       "      <th>std</th>\n",
       "      <td>2.114073</td>\n",
       "      <td>23.475248</td>\n",
       "      <td>15.516596</td>\n",
       "      <td>72.285227</td>\n",
       "      <td>23.385518</td>\n",
       "      <td>16.678031</td>\n",
       "      <td>136.246444</td>\n",
       "      <td>67.329092</td>\n",
       "      <td>2.030854</td>\n",
       "      <td>0.989998</td>\n",
       "    </tr>\n",
       "    <tr>\n",
       "      <th>min</th>\n",
       "      <td>0.000000</td>\n",
       "      <td>1884.000000</td>\n",
       "      <td>-48.261700</td>\n",
       "      <td>-123.035700</td>\n",
       "      <td>5.000000</td>\n",
       "      <td>5.000000</td>\n",
       "      <td>4.000000</td>\n",
       "      <td>13.100000</td>\n",
       "      <td>0.000000</td>\n",
       "      <td>0.800000</td>\n",
       "    </tr>\n",
       "    <tr>\n",
       "      <th>25%</th>\n",
       "      <td>0.000000</td>\n",
       "      <td>1989.000000</td>\n",
       "      <td>35.031050</td>\n",
       "      <td>-84.552200</td>\n",
       "      <td>40.000000</td>\n",
       "      <td>37.300000</td>\n",
       "      <td>44.000000</td>\n",
       "      <td>51.800000</td>\n",
       "      <td>0.000000</td>\n",
       "      <td>3.400000</td>\n",
       "    </tr>\n",
       "    <tr>\n",
       "      <th>50%</th>\n",
       "      <td>0.000000</td>\n",
       "      <td>2000.000000</td>\n",
       "      <td>40.289800</td>\n",
       "      <td>-76.653600</td>\n",
       "      <td>50.000000</td>\n",
       "      <td>49.700000</td>\n",
       "      <td>79.000000</td>\n",
       "      <td>91.200000</td>\n",
       "      <td>0.000000</td>\n",
       "      <td>4.000000</td>\n",
       "    </tr>\n",
       "    <tr>\n",
       "      <th>75%</th>\n",
       "      <td>3.000000</td>\n",
       "      <td>2010.000000</td>\n",
       "      <td>44.799600</td>\n",
       "      <td>2.778100</td>\n",
       "      <td>63.000000</td>\n",
       "      <td>58.000000</td>\n",
       "      <td>113.000000</td>\n",
       "      <td>131.200000</td>\n",
       "      <td>2.000000</td>\n",
       "      <td>4.500000</td>\n",
       "    </tr>\n",
       "    <tr>\n",
       "      <th>max</th>\n",
       "      <td>14.000000</td>\n",
       "      <td>2022.000000</td>\n",
       "      <td>63.230900</td>\n",
       "      <td>153.426500</td>\n",
       "      <td>240.000000</td>\n",
       "      <td>149.100000</td>\n",
       "      <td>3937.000000</td>\n",
       "      <td>377.300000</td>\n",
       "      <td>14.000000</td>\n",
       "      <td>12.000000</td>\n",
       "    </tr>\n",
       "  </tbody>\n",
       "</table>\n",
       "</div>"
      ],
      "text/plain": [
       "       Inversions  year_introduced    latitude   longitude  speed1_value  \\\n",
       "count  932.000000      1087.000000  812.000000  812.000000    937.000000   \n",
       "mean     1.547210      1994.986201   38.373484  -41.595373     53.850374   \n",
       "std      2.114073        23.475248   15.516596   72.285227     23.385518   \n",
       "min      0.000000      1884.000000  -48.261700 -123.035700      5.000000   \n",
       "25%      0.000000      1989.000000   35.031050  -84.552200     40.000000   \n",
       "50%      0.000000      2000.000000   40.289800  -76.653600     50.000000   \n",
       "75%      3.000000      2010.000000   44.799600    2.778100     63.000000   \n",
       "max     14.000000      2022.000000   63.230900  153.426500    240.000000   \n",
       "\n",
       "        speed_mph  height_value   height_ft  Inversions_clean  Gforce_clean  \n",
       "count  937.000000    965.000000  171.000000       1087.000000    362.000000  \n",
       "mean    48.617289     89.575171  101.996491          1.326587      3.824006  \n",
       "std     16.678031    136.246444   67.329092          2.030854      0.989998  \n",
       "min      5.000000      4.000000   13.100000          0.000000      0.800000  \n",
       "25%     37.300000     44.000000   51.800000          0.000000      3.400000  \n",
       "50%     49.700000     79.000000   91.200000          0.000000      4.000000  \n",
       "75%     58.000000    113.000000  131.200000          2.000000      4.500000  \n",
       "max    149.100000   3937.000000  377.300000         14.000000     12.000000  "
      ]
     },
     "execution_count": 7,
     "metadata": {},
     "output_type": "execute_result"
    }
   ],
   "source": [
    "df.describe()"
   ]
  },
  {
   "cell_type": "markdown",
   "id": "cad2a134",
   "metadata": {
    "papermill": {
     "duration": 0.0092,
     "end_time": "2022-10-25T12:49:02.741155",
     "exception": false,
     "start_time": "2022-10-25T12:49:02.731955",
     "status": "completed"
    },
    "tags": []
   },
   "source": [
    "# Data Preparation"
   ]
  },
  {
   "cell_type": "code",
   "execution_count": 8,
   "id": "79d2f673",
   "metadata": {
    "execution": {
     "iopub.execute_input": "2022-10-25T12:49:02.762507Z",
     "iopub.status.busy": "2022-10-25T12:49:02.761711Z",
     "iopub.status.idle": "2022-10-25T12:49:02.769933Z",
     "shell.execute_reply": "2022-10-25T12:49:02.768986Z"
    },
    "papermill": {
     "duration": 0.021631,
     "end_time": "2022-10-25T12:49:02.772302",
     "exception": false,
     "start_time": "2022-10-25T12:49:02.750671",
     "status": "completed"
    },
    "tags": []
   },
   "outputs": [],
   "source": [
    "df=df[['coaster_name', \n",
    "    #'Length', 'Speed',\n",
    "                'Location', 'Status', \n",
    "                #'Opening date',\n",
    "      # 'Type', \n",
    "    'Manufacturer',\n",
    "    #'Height restriction', 'Model', 'Height',\n",
    "      # 'Inversions', 'Lift/launch system', 'Cost', 'Trains', 'Park section',\n",
    "       #'Duration', 'Capacity', 'G-force', 'Designer', 'Max vertical angle',\n",
    "       #'Drop', 'Soft opening date', 'Fast Lane available', 'Replaced',\n",
    "       #'Track layout', 'Fastrack available', 'Soft opening date.1',\n",
    "       #'Closing date', 'Opened', 'Replaced by', 'Website',\n",
    "       #'Flash Pass Available', 'Must transfer from wheelchair', 'Theme',\n",
    "       #'Single rider line available', 'Restraint Style',\n",
    "       #'Flash Pass available', 'Acceleration', 'Restraints', 'Name',\n",
    "       'year_introduced', \n",
    "    'latitude', 'longitude', 'Type_Main',\n",
    "       'opening_date_clean',\n",
    "    #'speed1', 'speed2', 'speed1_value', 'speed1_unit',\n",
    "       'speed_mph',\n",
    "    #'height_value', 'height_unit', \n",
    "    'height_ft',\n",
    "       'Inversions_clean', 'Gforce_clean']].copy()"
   ]
  },
  {
   "cell_type": "code",
   "execution_count": 9,
   "id": "c948f12f",
   "metadata": {
    "execution": {
     "iopub.execute_input": "2022-10-25T12:49:02.793963Z",
     "iopub.status.busy": "2022-10-25T12:49:02.793353Z",
     "iopub.status.idle": "2022-10-25T12:49:02.802454Z",
     "shell.execute_reply": "2022-10-25T12:49:02.801508Z"
    },
    "papermill": {
     "duration": 0.022483,
     "end_time": "2022-10-25T12:49:02.804788",
     "exception": false,
     "start_time": "2022-10-25T12:49:02.782305",
     "status": "completed"
    },
    "tags": []
   },
   "outputs": [],
   "source": [
    "df['opening_date_clean']=pd.to_datetime(df['opening_date_clean'])"
   ]
  },
  {
   "cell_type": "code",
   "execution_count": 10,
   "id": "f730f516",
   "metadata": {
    "execution": {
     "iopub.execute_input": "2022-10-25T12:49:02.826426Z",
     "iopub.status.busy": "2022-10-25T12:49:02.825267Z",
     "iopub.status.idle": "2022-10-25T12:49:02.833832Z",
     "shell.execute_reply": "2022-10-25T12:49:02.832697Z"
    },
    "papermill": {
     "duration": 0.02195,
     "end_time": "2022-10-25T12:49:02.836362",
     "exception": false,
     "start_time": "2022-10-25T12:49:02.814412",
     "status": "completed"
    },
    "tags": []
   },
   "outputs": [
    {
     "data": {
      "text/plain": [
       "coaster_name                  object\n",
       "Location                      object\n",
       "Status                        object\n",
       "Manufacturer                  object\n",
       "year_introduced                int64\n",
       "latitude                     float64\n",
       "longitude                    float64\n",
       "Type_Main                     object\n",
       "opening_date_clean    datetime64[ns]\n",
       "speed_mph                    float64\n",
       "height_ft                    float64\n",
       "Inversions_clean               int64\n",
       "Gforce_clean                 float64\n",
       "dtype: object"
      ]
     },
     "execution_count": 10,
     "metadata": {},
     "output_type": "execute_result"
    }
   ],
   "source": [
    "df.dtypes"
   ]
  },
  {
   "cell_type": "code",
   "execution_count": 11,
   "id": "e86ed072",
   "metadata": {
    "execution": {
     "iopub.execute_input": "2022-10-25T12:49:02.858090Z",
     "iopub.status.busy": "2022-10-25T12:49:02.857166Z",
     "iopub.status.idle": "2022-10-25T12:49:02.864425Z",
     "shell.execute_reply": "2022-10-25T12:49:02.863334Z"
    },
    "papermill": {
     "duration": 0.020459,
     "end_time": "2022-10-25T12:49:02.866749",
     "exception": false,
     "start_time": "2022-10-25T12:49:02.846290",
     "status": "completed"
    },
    "tags": []
   },
   "outputs": [],
   "source": [
    "#rename columns\n",
    "df=df.rename(columns={'coaster_name':'Coaster_Name',\n",
    "                  'year_introduced':'Year_Introduced',\n",
    "                  'latitude':'Latitude','longitude':'Longitude',\n",
    "                  'opening_date_clean':'Opening_Date_Clean','speed_mph':'Speed_Mph','height_ft':'Height_ft'})"
   ]
  },
  {
   "cell_type": "code",
   "execution_count": 12,
   "id": "b36dd6a7",
   "metadata": {
    "execution": {
     "iopub.execute_input": "2022-10-25T12:49:02.888212Z",
     "iopub.status.busy": "2022-10-25T12:49:02.887790Z",
     "iopub.status.idle": "2022-10-25T12:49:02.907342Z",
     "shell.execute_reply": "2022-10-25T12:49:02.906258Z"
    },
    "papermill": {
     "duration": 0.032694,
     "end_time": "2022-10-25T12:49:02.909386",
     "exception": false,
     "start_time": "2022-10-25T12:49:02.876692",
     "status": "completed"
    },
    "tags": []
   },
   "outputs": [
    {
     "data": {
      "text/html": [
       "<div>\n",
       "<style scoped>\n",
       "    .dataframe tbody tr th:only-of-type {\n",
       "        vertical-align: middle;\n",
       "    }\n",
       "\n",
       "    .dataframe tbody tr th {\n",
       "        vertical-align: top;\n",
       "    }\n",
       "\n",
       "    .dataframe thead th {\n",
       "        text-align: right;\n",
       "    }\n",
       "</style>\n",
       "<table border=\"1\" class=\"dataframe\">\n",
       "  <thead>\n",
       "    <tr style=\"text-align: right;\">\n",
       "      <th></th>\n",
       "      <th>Coaster_Name</th>\n",
       "      <th>Location</th>\n",
       "      <th>Status</th>\n",
       "      <th>Manufacturer</th>\n",
       "      <th>Year_Introduced</th>\n",
       "      <th>Latitude</th>\n",
       "      <th>Longitude</th>\n",
       "      <th>Type_Main</th>\n",
       "      <th>Opening_Date_Clean</th>\n",
       "      <th>Speed_Mph</th>\n",
       "      <th>Height_ft</th>\n",
       "      <th>Inversions_clean</th>\n",
       "      <th>Gforce_clean</th>\n",
       "    </tr>\n",
       "  </thead>\n",
       "  <tbody>\n",
       "    <tr>\n",
       "      <th>0</th>\n",
       "      <td>Switchback Railway</td>\n",
       "      <td>Coney Island</td>\n",
       "      <td>Removed</td>\n",
       "      <td>LaMarcus Adna Thompson</td>\n",
       "      <td>1884</td>\n",
       "      <td>40.5740</td>\n",
       "      <td>-73.9780</td>\n",
       "      <td>Wood</td>\n",
       "      <td>1884-06-16</td>\n",
       "      <td>6.0</td>\n",
       "      <td>NaN</td>\n",
       "      <td>0</td>\n",
       "      <td>2.9</td>\n",
       "    </tr>\n",
       "    <tr>\n",
       "      <th>1</th>\n",
       "      <td>Flip Flap Railway</td>\n",
       "      <td>Sea Lion Park</td>\n",
       "      <td>Removed</td>\n",
       "      <td>Lina Beecher</td>\n",
       "      <td>1895</td>\n",
       "      <td>40.5780</td>\n",
       "      <td>-73.9790</td>\n",
       "      <td>Wood</td>\n",
       "      <td>1895-01-01</td>\n",
       "      <td>NaN</td>\n",
       "      <td>NaN</td>\n",
       "      <td>1</td>\n",
       "      <td>12.0</td>\n",
       "    </tr>\n",
       "    <tr>\n",
       "      <th>2</th>\n",
       "      <td>Switchback Railway (Euclid Beach Park)</td>\n",
       "      <td>Cleveland, Ohio, United States</td>\n",
       "      <td>Closed</td>\n",
       "      <td>NaN</td>\n",
       "      <td>1896</td>\n",
       "      <td>41.5800</td>\n",
       "      <td>-81.5700</td>\n",
       "      <td>Other</td>\n",
       "      <td>NaT</td>\n",
       "      <td>NaN</td>\n",
       "      <td>NaN</td>\n",
       "      <td>0</td>\n",
       "      <td>NaN</td>\n",
       "    </tr>\n",
       "    <tr>\n",
       "      <th>3</th>\n",
       "      <td>Loop the Loop (Coney Island)</td>\n",
       "      <td>Other</td>\n",
       "      <td>Removed</td>\n",
       "      <td>Edwin Prescott</td>\n",
       "      <td>1901</td>\n",
       "      <td>40.5745</td>\n",
       "      <td>-73.9780</td>\n",
       "      <td>Steel</td>\n",
       "      <td>1901-01-01</td>\n",
       "      <td>NaN</td>\n",
       "      <td>NaN</td>\n",
       "      <td>1</td>\n",
       "      <td>NaN</td>\n",
       "    </tr>\n",
       "    <tr>\n",
       "      <th>4</th>\n",
       "      <td>Loop the Loop (Young's Pier)</td>\n",
       "      <td>Other</td>\n",
       "      <td>Removed</td>\n",
       "      <td>Edwin Prescott</td>\n",
       "      <td>1901</td>\n",
       "      <td>39.3538</td>\n",
       "      <td>-74.4342</td>\n",
       "      <td>Steel</td>\n",
       "      <td>1901-01-01</td>\n",
       "      <td>NaN</td>\n",
       "      <td>NaN</td>\n",
       "      <td>1</td>\n",
       "      <td>NaN</td>\n",
       "    </tr>\n",
       "  </tbody>\n",
       "</table>\n",
       "</div>"
      ],
      "text/plain": [
       "                             Coaster_Name                        Location  \\\n",
       "0                      Switchback Railway                    Coney Island   \n",
       "1                       Flip Flap Railway                   Sea Lion Park   \n",
       "2  Switchback Railway (Euclid Beach Park)  Cleveland, Ohio, United States   \n",
       "3            Loop the Loop (Coney Island)                           Other   \n",
       "4            Loop the Loop (Young's Pier)                           Other   \n",
       "\n",
       "    Status            Manufacturer  Year_Introduced  Latitude  Longitude  \\\n",
       "0  Removed  LaMarcus Adna Thompson             1884   40.5740   -73.9780   \n",
       "1  Removed            Lina Beecher             1895   40.5780   -73.9790   \n",
       "2   Closed                     NaN             1896   41.5800   -81.5700   \n",
       "3  Removed          Edwin Prescott             1901   40.5745   -73.9780   \n",
       "4  Removed          Edwin Prescott             1901   39.3538   -74.4342   \n",
       "\n",
       "  Type_Main Opening_Date_Clean  Speed_Mph  Height_ft  Inversions_clean  \\\n",
       "0      Wood         1884-06-16        6.0        NaN                 0   \n",
       "1      Wood         1895-01-01        NaN        NaN                 1   \n",
       "2     Other                NaT        NaN        NaN                 0   \n",
       "3     Steel         1901-01-01        NaN        NaN                 1   \n",
       "4     Steel         1901-01-01        NaN        NaN                 1   \n",
       "\n",
       "   Gforce_clean  \n",
       "0           2.9  \n",
       "1          12.0  \n",
       "2           NaN  \n",
       "3           NaN  \n",
       "4           NaN  "
      ]
     },
     "execution_count": 12,
     "metadata": {},
     "output_type": "execute_result"
    }
   ],
   "source": [
    "df.head()"
   ]
  },
  {
   "cell_type": "code",
   "execution_count": 13,
   "id": "4f07af6c",
   "metadata": {
    "execution": {
     "iopub.execute_input": "2022-10-25T12:49:02.931209Z",
     "iopub.status.busy": "2022-10-25T12:49:02.930783Z",
     "iopub.status.idle": "2022-10-25T12:49:02.941095Z",
     "shell.execute_reply": "2022-10-25T12:49:02.940075Z"
    },
    "papermill": {
     "duration": 0.023604,
     "end_time": "2022-10-25T12:49:02.943132",
     "exception": false,
     "start_time": "2022-10-25T12:49:02.919528",
     "status": "completed"
    },
    "tags": []
   },
   "outputs": [
    {
     "data": {
      "text/plain": [
       "Coaster_Name            0\n",
       "Location                0\n",
       "Status                213\n",
       "Manufacturer           59\n",
       "Year_Introduced         0\n",
       "Latitude              275\n",
       "Longitude             275\n",
       "Type_Main               0\n",
       "Opening_Date_Clean    250\n",
       "Speed_Mph             150\n",
       "Height_ft             916\n",
       "Inversions_clean        0\n",
       "Gforce_clean          725\n",
       "dtype: int64"
      ]
     },
     "execution_count": 13,
     "metadata": {},
     "output_type": "execute_result"
    }
   ],
   "source": [
    "#identify missing values\n",
    "df.isna().sum()"
   ]
  },
  {
   "cell_type": "code",
   "execution_count": 14,
   "id": "60701f85",
   "metadata": {
    "execution": {
     "iopub.execute_input": "2022-10-25T12:49:02.965361Z",
     "iopub.status.busy": "2022-10-25T12:49:02.964928Z",
     "iopub.status.idle": "2022-10-25T12:49:02.998716Z",
     "shell.execute_reply": "2022-10-25T12:49:02.997664Z"
    },
    "papermill": {
     "duration": 0.047506,
     "end_time": "2022-10-25T12:49:03.001070",
     "exception": false,
     "start_time": "2022-10-25T12:49:02.953564",
     "status": "completed"
    },
    "tags": []
   },
   "outputs": [
    {
     "data": {
      "text/html": [
       "<div>\n",
       "<style scoped>\n",
       "    .dataframe tbody tr th:only-of-type {\n",
       "        vertical-align: middle;\n",
       "    }\n",
       "\n",
       "    .dataframe tbody tr th {\n",
       "        vertical-align: top;\n",
       "    }\n",
       "\n",
       "    .dataframe thead th {\n",
       "        text-align: right;\n",
       "    }\n",
       "</style>\n",
       "<table border=\"1\" class=\"dataframe\">\n",
       "  <thead>\n",
       "    <tr style=\"text-align: right;\">\n",
       "      <th></th>\n",
       "      <th>Coaster_Name</th>\n",
       "      <th>Location</th>\n",
       "      <th>Status</th>\n",
       "      <th>Manufacturer</th>\n",
       "      <th>Year_Introduced</th>\n",
       "      <th>Latitude</th>\n",
       "      <th>Longitude</th>\n",
       "      <th>Type_Main</th>\n",
       "      <th>Opening_Date_Clean</th>\n",
       "      <th>Speed_Mph</th>\n",
       "      <th>Height_ft</th>\n",
       "      <th>Inversions_clean</th>\n",
       "      <th>Gforce_clean</th>\n",
       "    </tr>\n",
       "  </thead>\n",
       "  <tbody>\n",
       "    <tr>\n",
       "      <th>0</th>\n",
       "      <td>Switchback Railway</td>\n",
       "      <td>Coney Island</td>\n",
       "      <td>Removed</td>\n",
       "      <td>LaMarcus Adna Thompson</td>\n",
       "      <td>1884</td>\n",
       "      <td>40.5740</td>\n",
       "      <td>-73.9780</td>\n",
       "      <td>Wood</td>\n",
       "      <td>1884-06-16</td>\n",
       "      <td>6.0</td>\n",
       "      <td>NaN</td>\n",
       "      <td>0</td>\n",
       "      <td>2.9</td>\n",
       "    </tr>\n",
       "    <tr>\n",
       "      <th>1</th>\n",
       "      <td>Flip Flap Railway</td>\n",
       "      <td>Sea Lion Park</td>\n",
       "      <td>Removed</td>\n",
       "      <td>Lina Beecher</td>\n",
       "      <td>1895</td>\n",
       "      <td>40.5780</td>\n",
       "      <td>-73.9790</td>\n",
       "      <td>Wood</td>\n",
       "      <td>1895-01-01</td>\n",
       "      <td>NaN</td>\n",
       "      <td>NaN</td>\n",
       "      <td>1</td>\n",
       "      <td>12.0</td>\n",
       "    </tr>\n",
       "    <tr>\n",
       "      <th>2</th>\n",
       "      <td>Switchback Railway (Euclid Beach Park)</td>\n",
       "      <td>Cleveland, Ohio, United States</td>\n",
       "      <td>Closed</td>\n",
       "      <td>NaN</td>\n",
       "      <td>1896</td>\n",
       "      <td>41.5800</td>\n",
       "      <td>-81.5700</td>\n",
       "      <td>Other</td>\n",
       "      <td>NaT</td>\n",
       "      <td>NaN</td>\n",
       "      <td>NaN</td>\n",
       "      <td>0</td>\n",
       "      <td>NaN</td>\n",
       "    </tr>\n",
       "    <tr>\n",
       "      <th>3</th>\n",
       "      <td>Loop the Loop (Coney Island)</td>\n",
       "      <td>Other</td>\n",
       "      <td>Removed</td>\n",
       "      <td>Edwin Prescott</td>\n",
       "      <td>1901</td>\n",
       "      <td>40.5745</td>\n",
       "      <td>-73.9780</td>\n",
       "      <td>Steel</td>\n",
       "      <td>1901-01-01</td>\n",
       "      <td>NaN</td>\n",
       "      <td>NaN</td>\n",
       "      <td>1</td>\n",
       "      <td>NaN</td>\n",
       "    </tr>\n",
       "    <tr>\n",
       "      <th>4</th>\n",
       "      <td>Loop the Loop (Young's Pier)</td>\n",
       "      <td>Other</td>\n",
       "      <td>Removed</td>\n",
       "      <td>Edwin Prescott</td>\n",
       "      <td>1901</td>\n",
       "      <td>39.3538</td>\n",
       "      <td>-74.4342</td>\n",
       "      <td>Steel</td>\n",
       "      <td>1901-01-01</td>\n",
       "      <td>NaN</td>\n",
       "      <td>NaN</td>\n",
       "      <td>1</td>\n",
       "      <td>NaN</td>\n",
       "    </tr>\n",
       "    <tr>\n",
       "      <th>...</th>\n",
       "      <td>...</td>\n",
       "      <td>...</td>\n",
       "      <td>...</td>\n",
       "      <td>...</td>\n",
       "      <td>...</td>\n",
       "      <td>...</td>\n",
       "      <td>...</td>\n",
       "      <td>...</td>\n",
       "      <td>...</td>\n",
       "      <td>...</td>\n",
       "      <td>...</td>\n",
       "      <td>...</td>\n",
       "      <td>...</td>\n",
       "    </tr>\n",
       "    <tr>\n",
       "      <th>1079</th>\n",
       "      <td>Ice Breaker (roller coaster)</td>\n",
       "      <td>SeaWorld Orlando</td>\n",
       "      <td>Under construction</td>\n",
       "      <td>Premier Rides</td>\n",
       "      <td>2022</td>\n",
       "      <td>28.4088</td>\n",
       "      <td>-81.4633</td>\n",
       "      <td>Steel</td>\n",
       "      <td>2022-02-01</td>\n",
       "      <td>52.0</td>\n",
       "      <td>NaN</td>\n",
       "      <td>0</td>\n",
       "      <td>NaN</td>\n",
       "    </tr>\n",
       "    <tr>\n",
       "      <th>1081</th>\n",
       "      <td>Leviathan (Sea World)</td>\n",
       "      <td>Sea World</td>\n",
       "      <td>Under construction</td>\n",
       "      <td>Martin &amp; Vleminckx</td>\n",
       "      <td>2022</td>\n",
       "      <td>-27.9574</td>\n",
       "      <td>153.4263</td>\n",
       "      <td>Wood</td>\n",
       "      <td>2022-01-01</td>\n",
       "      <td>49.7</td>\n",
       "      <td>105.0</td>\n",
       "      <td>0</td>\n",
       "      <td>NaN</td>\n",
       "    </tr>\n",
       "    <tr>\n",
       "      <th>1083</th>\n",
       "      <td>Pantheon (roller coaster)</td>\n",
       "      <td>Busch Gardens Williamsburg</td>\n",
       "      <td>Under construction</td>\n",
       "      <td>Intamin</td>\n",
       "      <td>2022</td>\n",
       "      <td>37.2339</td>\n",
       "      <td>-76.6426</td>\n",
       "      <td>Steel</td>\n",
       "      <td>2022-01-01</td>\n",
       "      <td>73.0</td>\n",
       "      <td>NaN</td>\n",
       "      <td>2</td>\n",
       "      <td>NaN</td>\n",
       "    </tr>\n",
       "    <tr>\n",
       "      <th>1085</th>\n",
       "      <td>Tumbili</td>\n",
       "      <td>Kings Dominion</td>\n",
       "      <td>Under construction</td>\n",
       "      <td>S&amp;S – Sansei Technologies</td>\n",
       "      <td>2022</td>\n",
       "      <td>NaN</td>\n",
       "      <td>NaN</td>\n",
       "      <td>Steel</td>\n",
       "      <td>NaT</td>\n",
       "      <td>34.0</td>\n",
       "      <td>NaN</td>\n",
       "      <td>0</td>\n",
       "      <td>NaN</td>\n",
       "    </tr>\n",
       "    <tr>\n",
       "      <th>1086</th>\n",
       "      <td>Wonder Woman Flight of Courage</td>\n",
       "      <td>Six Flags Magic Mountain</td>\n",
       "      <td>Under construction</td>\n",
       "      <td>Rocky Mountain Construction</td>\n",
       "      <td>2022</td>\n",
       "      <td>NaN</td>\n",
       "      <td>NaN</td>\n",
       "      <td>Steel</td>\n",
       "      <td>2022-01-01</td>\n",
       "      <td>58.0</td>\n",
       "      <td>NaN</td>\n",
       "      <td>3</td>\n",
       "      <td>NaN</td>\n",
       "    </tr>\n",
       "  </tbody>\n",
       "</table>\n",
       "<p>990 rows × 13 columns</p>\n",
       "</div>"
      ],
      "text/plain": [
       "                                Coaster_Name                        Location  \\\n",
       "0                         Switchback Railway                    Coney Island   \n",
       "1                          Flip Flap Railway                   Sea Lion Park   \n",
       "2     Switchback Railway (Euclid Beach Park)  Cleveland, Ohio, United States   \n",
       "3               Loop the Loop (Coney Island)                           Other   \n",
       "4               Loop the Loop (Young's Pier)                           Other   \n",
       "...                                      ...                             ...   \n",
       "1079            Ice Breaker (roller coaster)                SeaWorld Orlando   \n",
       "1081                   Leviathan (Sea World)                       Sea World   \n",
       "1083               Pantheon (roller coaster)      Busch Gardens Williamsburg   \n",
       "1085                                 Tumbili                  Kings Dominion   \n",
       "1086          Wonder Woman Flight of Courage        Six Flags Magic Mountain   \n",
       "\n",
       "                  Status                 Manufacturer  Year_Introduced  \\\n",
       "0                Removed       LaMarcus Adna Thompson             1884   \n",
       "1                Removed                 Lina Beecher             1895   \n",
       "2                 Closed                          NaN             1896   \n",
       "3                Removed               Edwin Prescott             1901   \n",
       "4                Removed               Edwin Prescott             1901   \n",
       "...                  ...                          ...              ...   \n",
       "1079  Under construction                Premier Rides             2022   \n",
       "1081  Under construction           Martin & Vleminckx             2022   \n",
       "1083  Under construction                      Intamin             2022   \n",
       "1085  Under construction    S&S – Sansei Technologies             2022   \n",
       "1086  Under construction  Rocky Mountain Construction             2022   \n",
       "\n",
       "      Latitude  Longitude Type_Main Opening_Date_Clean  Speed_Mph  Height_ft  \\\n",
       "0      40.5740   -73.9780      Wood         1884-06-16        6.0        NaN   \n",
       "1      40.5780   -73.9790      Wood         1895-01-01        NaN        NaN   \n",
       "2      41.5800   -81.5700     Other                NaT        NaN        NaN   \n",
       "3      40.5745   -73.9780     Steel         1901-01-01        NaN        NaN   \n",
       "4      39.3538   -74.4342     Steel         1901-01-01        NaN        NaN   \n",
       "...        ...        ...       ...                ...        ...        ...   \n",
       "1079   28.4088   -81.4633     Steel         2022-02-01       52.0        NaN   \n",
       "1081  -27.9574   153.4263      Wood         2022-01-01       49.7      105.0   \n",
       "1083   37.2339   -76.6426     Steel         2022-01-01       73.0        NaN   \n",
       "1085       NaN        NaN     Steel                NaT       34.0        NaN   \n",
       "1086       NaN        NaN     Steel         2022-01-01       58.0        NaN   \n",
       "\n",
       "      Inversions_clean  Gforce_clean  \n",
       "0                    0           2.9  \n",
       "1                    1          12.0  \n",
       "2                    0           NaN  \n",
       "3                    1           NaN  \n",
       "4                    1           NaN  \n",
       "...                ...           ...  \n",
       "1079                 0           NaN  \n",
       "1081                 0           NaN  \n",
       "1083                 2           NaN  \n",
       "1085                 0           NaN  \n",
       "1086                 3           NaN  \n",
       "\n",
       "[990 rows x 13 columns]"
      ]
     },
     "execution_count": 14,
     "metadata": {},
     "output_type": "execute_result"
    }
   ],
   "source": [
    "df.loc[~df.duplicated(subset=['Coaster_Name'])]"
   ]
  },
  {
   "cell_type": "code",
   "execution_count": 15,
   "id": "aef88ea3",
   "metadata": {
    "execution": {
     "iopub.execute_input": "2022-10-25T12:49:03.025102Z",
     "iopub.status.busy": "2022-10-25T12:49:03.024153Z",
     "iopub.status.idle": "2022-10-25T12:49:03.046454Z",
     "shell.execute_reply": "2022-10-25T12:49:03.045454Z"
    },
    "papermill": {
     "duration": 0.036726,
     "end_time": "2022-10-25T12:49:03.048719",
     "exception": false,
     "start_time": "2022-10-25T12:49:03.011993",
     "status": "completed"
    },
    "tags": []
   },
   "outputs": [
    {
     "data": {
      "text/html": [
       "<div>\n",
       "<style scoped>\n",
       "    .dataframe tbody tr th:only-of-type {\n",
       "        vertical-align: middle;\n",
       "    }\n",
       "\n",
       "    .dataframe tbody tr th {\n",
       "        vertical-align: top;\n",
       "    }\n",
       "\n",
       "    .dataframe thead th {\n",
       "        text-align: right;\n",
       "    }\n",
       "</style>\n",
       "<table border=\"1\" class=\"dataframe\">\n",
       "  <thead>\n",
       "    <tr style=\"text-align: right;\">\n",
       "      <th></th>\n",
       "      <th>Coaster_Name</th>\n",
       "      <th>Location</th>\n",
       "      <th>Status</th>\n",
       "      <th>Manufacturer</th>\n",
       "      <th>Year_Introduced</th>\n",
       "      <th>Latitude</th>\n",
       "      <th>Longitude</th>\n",
       "      <th>Type_Main</th>\n",
       "      <th>Opening_Date_Clean</th>\n",
       "      <th>Speed_Mph</th>\n",
       "      <th>Height_ft</th>\n",
       "      <th>Inversions_clean</th>\n",
       "      <th>Gforce_clean</th>\n",
       "    </tr>\n",
       "  </thead>\n",
       "  <tbody>\n",
       "    <tr>\n",
       "      <th>14</th>\n",
       "      <td>Derby Racer</td>\n",
       "      <td>Revere Beach</td>\n",
       "      <td>Removed</td>\n",
       "      <td>Fred W. Pearce</td>\n",
       "      <td>1911</td>\n",
       "      <td>42.42</td>\n",
       "      <td>-70.986</td>\n",
       "      <td>Wood</td>\n",
       "      <td>1911-01-01</td>\n",
       "      <td>NaN</td>\n",
       "      <td>NaN</td>\n",
       "      <td>0</td>\n",
       "      <td>NaN</td>\n",
       "    </tr>\n",
       "    <tr>\n",
       "      <th>60</th>\n",
       "      <td>Derby Racer</td>\n",
       "      <td>Revere Beach</td>\n",
       "      <td>Removed</td>\n",
       "      <td>Fred W. Pearce</td>\n",
       "      <td>1937</td>\n",
       "      <td>42.42</td>\n",
       "      <td>-70.986</td>\n",
       "      <td>Wood</td>\n",
       "      <td>1911-01-01</td>\n",
       "      <td>NaN</td>\n",
       "      <td>NaN</td>\n",
       "      <td>0</td>\n",
       "      <td>NaN</td>\n",
       "    </tr>\n",
       "  </tbody>\n",
       "</table>\n",
       "</div>"
      ],
      "text/plain": [
       "   Coaster_Name      Location   Status    Manufacturer  Year_Introduced  \\\n",
       "14  Derby Racer  Revere Beach  Removed  Fred W. Pearce             1911   \n",
       "60  Derby Racer  Revere Beach  Removed  Fred W. Pearce             1937   \n",
       "\n",
       "    Latitude  Longitude Type_Main Opening_Date_Clean  Speed_Mph  Height_ft  \\\n",
       "14     42.42    -70.986      Wood         1911-01-01        NaN        NaN   \n",
       "60     42.42    -70.986      Wood         1911-01-01        NaN        NaN   \n",
       "\n",
       "    Inversions_clean  Gforce_clean  \n",
       "14                 0           NaN  \n",
       "60                 0           NaN  "
      ]
     },
     "execution_count": 15,
     "metadata": {},
     "output_type": "execute_result"
    }
   ],
   "source": [
    "df.query('Coaster_Name == \"Derby Racer\"')"
   ]
  },
  {
   "cell_type": "code",
   "execution_count": 16,
   "id": "6c87c530",
   "metadata": {
    "execution": {
     "iopub.execute_input": "2022-10-25T12:49:03.073138Z",
     "iopub.status.busy": "2022-10-25T12:49:03.072725Z",
     "iopub.status.idle": "2022-10-25T12:49:03.080792Z",
     "shell.execute_reply": "2022-10-25T12:49:03.080054Z"
    },
    "papermill": {
     "duration": 0.022954,
     "end_time": "2022-10-25T12:49:03.082905",
     "exception": false,
     "start_time": "2022-10-25T12:49:03.059951",
     "status": "completed"
    },
    "tags": []
   },
   "outputs": [],
   "source": [
    "df=df.loc[~df.duplicated(subset=['Coaster_Name','Location','Opening_Date_Clean'])] . reset_index(drop=True) .copy()"
   ]
  },
  {
   "cell_type": "code",
   "execution_count": 17,
   "id": "25aef264",
   "metadata": {
    "execution": {
     "iopub.execute_input": "2022-10-25T12:49:03.106735Z",
     "iopub.status.busy": "2022-10-25T12:49:03.106355Z",
     "iopub.status.idle": "2022-10-25T12:49:03.112879Z",
     "shell.execute_reply": "2022-10-25T12:49:03.111928Z"
    },
    "papermill": {
     "duration": 0.020777,
     "end_time": "2022-10-25T12:49:03.114963",
     "exception": false,
     "start_time": "2022-10-25T12:49:03.094186",
     "status": "completed"
    },
    "tags": []
   },
   "outputs": [
    {
     "data": {
      "text/plain": [
       "(990, 13)"
      ]
     },
     "execution_count": 17,
     "metadata": {},
     "output_type": "execute_result"
    }
   ],
   "source": [
    "df.shape"
   ]
  },
  {
   "cell_type": "markdown",
   "id": "41a90ed1",
   "metadata": {
    "papermill": {
     "duration": 0.010721,
     "end_time": "2022-10-25T12:49:03.136627",
     "exception": false,
     "start_time": "2022-10-25T12:49:03.125906",
     "status": "completed"
    },
    "tags": []
   },
   "source": [
    "## Feature Understanding"
   ]
  },
  {
   "cell_type": "markdown",
   "id": "4a91dc99",
   "metadata": {
    "papermill": {
     "duration": 0.010552,
     "end_time": "2022-10-25T12:49:03.158263",
     "exception": false,
     "start_time": "2022-10-25T12:49:03.147711",
     "status": "completed"
    },
    "tags": []
   },
   "source": []
  },
  {
   "cell_type": "code",
   "execution_count": 18,
   "id": "ad4690bd",
   "metadata": {
    "execution": {
     "iopub.execute_input": "2022-10-25T12:49:03.182054Z",
     "iopub.status.busy": "2022-10-25T12:49:03.181649Z",
     "iopub.status.idle": "2022-10-25T12:49:03.200635Z",
     "shell.execute_reply": "2022-10-25T12:49:03.199563Z"
    },
    "papermill": {
     "duration": 0.033592,
     "end_time": "2022-10-25T12:49:03.202713",
     "exception": false,
     "start_time": "2022-10-25T12:49:03.169121",
     "status": "completed"
    },
    "tags": []
   },
   "outputs": [
    {
     "data": {
      "text/html": [
       "<div>\n",
       "<style scoped>\n",
       "    .dataframe tbody tr th:only-of-type {\n",
       "        vertical-align: middle;\n",
       "    }\n",
       "\n",
       "    .dataframe tbody tr th {\n",
       "        vertical-align: top;\n",
       "    }\n",
       "\n",
       "    .dataframe thead th {\n",
       "        text-align: right;\n",
       "    }\n",
       "</style>\n",
       "<table border=\"1\" class=\"dataframe\">\n",
       "  <thead>\n",
       "    <tr style=\"text-align: right;\">\n",
       "      <th></th>\n",
       "      <th>Coaster_Name</th>\n",
       "      <th>Location</th>\n",
       "      <th>Status</th>\n",
       "      <th>Manufacturer</th>\n",
       "      <th>Year_Introduced</th>\n",
       "      <th>Latitude</th>\n",
       "      <th>Longitude</th>\n",
       "      <th>Type_Main</th>\n",
       "      <th>Opening_Date_Clean</th>\n",
       "      <th>Speed_Mph</th>\n",
       "      <th>Height_ft</th>\n",
       "      <th>Inversions_clean</th>\n",
       "      <th>Gforce_clean</th>\n",
       "    </tr>\n",
       "  </thead>\n",
       "  <tbody>\n",
       "    <tr>\n",
       "      <th>0</th>\n",
       "      <td>Switchback Railway</td>\n",
       "      <td>Coney Island</td>\n",
       "      <td>Removed</td>\n",
       "      <td>LaMarcus Adna Thompson</td>\n",
       "      <td>1884</td>\n",
       "      <td>40.5740</td>\n",
       "      <td>-73.9780</td>\n",
       "      <td>Wood</td>\n",
       "      <td>1884-06-16</td>\n",
       "      <td>6.0</td>\n",
       "      <td>NaN</td>\n",
       "      <td>0</td>\n",
       "      <td>2.9</td>\n",
       "    </tr>\n",
       "    <tr>\n",
       "      <th>1</th>\n",
       "      <td>Flip Flap Railway</td>\n",
       "      <td>Sea Lion Park</td>\n",
       "      <td>Removed</td>\n",
       "      <td>Lina Beecher</td>\n",
       "      <td>1895</td>\n",
       "      <td>40.5780</td>\n",
       "      <td>-73.9790</td>\n",
       "      <td>Wood</td>\n",
       "      <td>1895-01-01</td>\n",
       "      <td>NaN</td>\n",
       "      <td>NaN</td>\n",
       "      <td>1</td>\n",
       "      <td>12.0</td>\n",
       "    </tr>\n",
       "    <tr>\n",
       "      <th>2</th>\n",
       "      <td>Switchback Railway (Euclid Beach Park)</td>\n",
       "      <td>Cleveland, Ohio, United States</td>\n",
       "      <td>Closed</td>\n",
       "      <td>NaN</td>\n",
       "      <td>1896</td>\n",
       "      <td>41.5800</td>\n",
       "      <td>-81.5700</td>\n",
       "      <td>Other</td>\n",
       "      <td>NaT</td>\n",
       "      <td>NaN</td>\n",
       "      <td>NaN</td>\n",
       "      <td>0</td>\n",
       "      <td>NaN</td>\n",
       "    </tr>\n",
       "    <tr>\n",
       "      <th>3</th>\n",
       "      <td>Loop the Loop (Coney Island)</td>\n",
       "      <td>Other</td>\n",
       "      <td>Removed</td>\n",
       "      <td>Edwin Prescott</td>\n",
       "      <td>1901</td>\n",
       "      <td>40.5745</td>\n",
       "      <td>-73.9780</td>\n",
       "      <td>Steel</td>\n",
       "      <td>1901-01-01</td>\n",
       "      <td>NaN</td>\n",
       "      <td>NaN</td>\n",
       "      <td>1</td>\n",
       "      <td>NaN</td>\n",
       "    </tr>\n",
       "    <tr>\n",
       "      <th>4</th>\n",
       "      <td>Loop the Loop (Young's Pier)</td>\n",
       "      <td>Other</td>\n",
       "      <td>Removed</td>\n",
       "      <td>Edwin Prescott</td>\n",
       "      <td>1901</td>\n",
       "      <td>39.3538</td>\n",
       "      <td>-74.4342</td>\n",
       "      <td>Steel</td>\n",
       "      <td>1901-01-01</td>\n",
       "      <td>NaN</td>\n",
       "      <td>NaN</td>\n",
       "      <td>1</td>\n",
       "      <td>NaN</td>\n",
       "    </tr>\n",
       "  </tbody>\n",
       "</table>\n",
       "</div>"
      ],
      "text/plain": [
       "                             Coaster_Name                        Location  \\\n",
       "0                      Switchback Railway                    Coney Island   \n",
       "1                       Flip Flap Railway                   Sea Lion Park   \n",
       "2  Switchback Railway (Euclid Beach Park)  Cleveland, Ohio, United States   \n",
       "3            Loop the Loop (Coney Island)                           Other   \n",
       "4            Loop the Loop (Young's Pier)                           Other   \n",
       "\n",
       "    Status            Manufacturer  Year_Introduced  Latitude  Longitude  \\\n",
       "0  Removed  LaMarcus Adna Thompson             1884   40.5740   -73.9780   \n",
       "1  Removed            Lina Beecher             1895   40.5780   -73.9790   \n",
       "2   Closed                     NaN             1896   41.5800   -81.5700   \n",
       "3  Removed          Edwin Prescott             1901   40.5745   -73.9780   \n",
       "4  Removed          Edwin Prescott             1901   39.3538   -74.4342   \n",
       "\n",
       "  Type_Main Opening_Date_Clean  Speed_Mph  Height_ft  Inversions_clean  \\\n",
       "0      Wood         1884-06-16        6.0        NaN                 0   \n",
       "1      Wood         1895-01-01        NaN        NaN                 1   \n",
       "2     Other                NaT        NaN        NaN                 0   \n",
       "3     Steel         1901-01-01        NaN        NaN                 1   \n",
       "4     Steel         1901-01-01        NaN        NaN                 1   \n",
       "\n",
       "   Gforce_clean  \n",
       "0           2.9  \n",
       "1          12.0  \n",
       "2           NaN  \n",
       "3           NaN  \n",
       "4           NaN  "
      ]
     },
     "execution_count": 18,
     "metadata": {},
     "output_type": "execute_result"
    }
   ],
   "source": [
    "df.head()"
   ]
  },
  {
   "cell_type": "code",
   "execution_count": 19,
   "id": "4caf0f7a",
   "metadata": {
    "execution": {
     "iopub.execute_input": "2022-10-25T12:49:03.227724Z",
     "iopub.status.busy": "2022-10-25T12:49:03.227284Z",
     "iopub.status.idle": "2022-10-25T12:49:03.520821Z",
     "shell.execute_reply": "2022-10-25T12:49:03.520042Z"
    },
    "papermill": {
     "duration": 0.308413,
     "end_time": "2022-10-25T12:49:03.522846",
     "exception": false,
     "start_time": "2022-10-25T12:49:03.214433",
     "status": "completed"
    },
    "tags": []
   },
   "outputs": [
    {
     "data": {
      "text/plain": [
       "Text(0, 0.5, 'Count')"
      ]
     },
     "execution_count": 19,
     "metadata": {},
     "output_type": "execute_result"
    },
    {
     "data": {
      "image/png": "[encoded data removed]",
      "text/plain": [
       "<Figure size 432x288 with 1 Axes>"
      ]
     },
     "metadata": {},
     "output_type": "display_data"
    }
   ],
   "source": [
    "ax=df['Year_Introduced'].value_counts().head(10).plot(kind='bar',title='Top 10 Years Coaster Introduced')\n",
    "ax.set_xlabel('Year Introduced')\n",
    "ax.set_ylabel('Count')"
   ]
  },
  {
   "cell_type": "code",
   "execution_count": 20,
   "id": "f84ebcab",
   "metadata": {
    "execution": {
     "iopub.execute_input": "2022-10-25T12:49:03.548571Z",
     "iopub.status.busy": "2022-10-25T12:49:03.547702Z",
     "iopub.status.idle": "2022-10-25T12:49:03.824754Z",
     "shell.execute_reply": "2022-10-25T12:49:03.823594Z"
    },
    "papermill": {
     "duration": 0.292812,
     "end_time": "2022-10-25T12:49:03.827518",
     "exception": false,
     "start_time": "2022-10-25T12:49:03.534706",
     "status": "completed"
    },
    "tags": []
   },
   "outputs": [
    {
     "data": {
      "text/plain": [
       "Text(0.5, 0, 'speed')"
      ]
     },
     "execution_count": 20,
     "metadata": {},
     "output_type": "execute_result"
    },
    {
     "data": {
      "image/png": "[encoded data removed]",
      "text/plain": [
       "<Figure size 432x288 with 1 Axes>"
      ]
     },
     "metadata": {},
     "output_type": "display_data"
    }
   ],
   "source": [
    "ax=df['Speed_Mph'].plot(kind='hist',bins=20,title='Coaste Speed(mph)')\n",
    "ax.set_xlabel('speed')"
   ]
  },
  {
   "cell_type": "code",
   "execution_count": 21,
   "id": "132f4bb6",
   "metadata": {
    "execution": {
     "iopub.execute_input": "2022-10-25T12:49:03.854309Z",
     "iopub.status.busy": "2022-10-25T12:49:03.853214Z",
     "iopub.status.idle": "2022-10-25T12:49:04.115971Z",
     "shell.execute_reply": "2022-10-25T12:49:04.114430Z"
    },
    "papermill": {
     "duration": 0.278705,
     "end_time": "2022-10-25T12:49:04.118578",
     "exception": false,
     "start_time": "2022-10-25T12:49:03.839873",
     "status": "completed"
    },
    "tags": []
   },
   "outputs": [
    {
     "data": {
      "text/plain": [
       "<AxesSubplot:ylabel='Density'>"
      ]
     },
     "execution_count": 21,
     "metadata": {},
     "output_type": "execute_result"
    },
    {
     "data": {
      "image/png": "[encoded data removed]",
      "text/plain": [
       "<Figure size 432x288 with 1 Axes>"
      ]
     },
     "metadata": {},
     "output_type": "display_data"
    }
   ],
   "source": [
    "df['Speed_Mph'].plot(kind='kde')"
   ]
  },
  {
   "cell_type": "markdown",
   "id": "173ef587",
   "metadata": {
    "papermill": {
     "duration": 0.013351,
     "end_time": "2022-10-25T12:49:04.146029",
     "exception": false,
     "start_time": "2022-10-25T12:49:04.132678",
     "status": "completed"
    },
    "tags": []
   },
   "source": [
    "## Feature Relationships"
   ]
  },
  {
   "cell_type": "code",
   "execution_count": 22,
   "id": "f17b47b7",
   "metadata": {
    "execution": {
     "iopub.execute_input": "2022-10-25T12:49:04.173898Z",
     "iopub.status.busy": "2022-10-25T12:49:04.173425Z",
     "iopub.status.idle": "2022-10-25T12:49:04.401360Z",
     "shell.execute_reply": "2022-10-25T12:49:04.400276Z"
    },
    "papermill": {
     "duration": 0.244258,
     "end_time": "2022-10-25T12:49:04.403772",
     "exception": false,
     "start_time": "2022-10-25T12:49:04.159514",
     "status": "completed"
    },
    "tags": []
   },
   "outputs": [
    {
     "data": {
      "image/png": "[encoded data removed]",
      "text/plain": [
       "<Figure size 432x288 with 1 Axes>"
      ]
     },
     "metadata": {},
     "output_type": "display_data"
    }
   ],
   "source": [
    "df.plot(kind='scatter',x='Speed_Mph',y='Height_ft')\n",
    "plt.show()"
   ]
  },
  {
   "cell_type": "markdown",
   "id": "060cbb44",
   "metadata": {
    "papermill": {
     "duration": 0.013004,
     "end_time": "2022-10-25T12:49:04.429972",
     "exception": false,
     "start_time": "2022-10-25T12:49:04.416968",
     "status": "completed"
    },
    "tags": []
   },
   "source": []
  },
  {
   "cell_type": "code",
   "execution_count": 23,
   "id": "a2da88a8",
   "metadata": {
    "execution": {
     "iopub.execute_input": "2022-10-25T12:49:04.458108Z",
     "iopub.status.busy": "2022-10-25T12:49:04.457715Z",
     "iopub.status.idle": "2022-10-25T12:49:04.811153Z",
     "shell.execute_reply": "2022-10-25T12:49:04.809966Z"
    },
    "papermill": {
     "duration": 0.370304,
     "end_time": "2022-10-25T12:49:04.813478",
     "exception": false,
     "start_time": "2022-10-25T12:49:04.443174",
     "status": "completed"
    },
    "tags": []
   },
   "outputs": [
    {
     "data": {
      "image/png": "[encoded data removed]",
      "text/plain": [
       "<Figure size 432x288 with 1 Axes>"
      ]
     },
     "metadata": {},
     "output_type": "display_data"
    }
   ],
   "source": [
    "ax=sns.scatterplot(x='Speed_Mph',y='Height_ft',data=df,hue='Type_Main')"
   ]
  },
  {
   "cell_type": "code",
   "execution_count": 24,
   "id": "4c4a4ea2",
   "metadata": {
    "execution": {
     "iopub.execute_input": "2022-10-25T12:49:04.842999Z",
     "iopub.status.busy": "2022-10-25T12:49:04.841844Z",
     "iopub.status.idle": "2022-10-25T12:49:12.722908Z",
     "shell.execute_reply": "2022-10-25T12:49:12.721807Z"
    },
    "papermill": {
     "duration": 7.899696,
     "end_time": "2022-10-25T12:49:12.726893",
     "exception": false,
     "start_time": "2022-10-25T12:49:04.827197",
     "status": "completed"
    },
    "tags": []
   },
   "outputs": [
    {
     "data": {
      "text/plain": [
       "<seaborn.axisgrid.PairGrid at 0x7f638453e6d0>"
      ]
     },
     "execution_count": 24,
     "metadata": {},
     "output_type": "execute_result"
    },
    {
     "data": {
      "image/png": "[encoded data removed]",
      "text/plain": [
       "<Figure size 964.25x900 with 30 Axes>"
      ]
     },
     "metadata": {},
     "output_type": "display_data"
    }
   ],
   "source": [
    "sns.pairplot(df,vars=['Year_Introduced','Speed_Mph','Height_ft','Inversions_clean','Gforce_clean'],hue='Type_Main')"
   ]
  },
  {
   "cell_type": "code",
   "execution_count": 25,
   "id": "0b1d79f2",
   "metadata": {
    "execution": {
     "iopub.execute_input": "2022-10-25T12:49:12.767317Z",
     "iopub.status.busy": "2022-10-25T12:49:12.766234Z",
     "iopub.status.idle": "2022-10-25T12:49:12.791694Z",
     "shell.execute_reply": "2022-10-25T12:49:12.790911Z"
    },
    "papermill": {
     "duration": 0.04754,
     "end_time": "2022-10-25T12:49:12.793968",
     "exception": false,
     "start_time": "2022-10-25T12:49:12.746428",
     "status": "completed"
    },
    "tags": []
   },
   "outputs": [
    {
     "data": {
      "text/html": [
       "<div>\n",
       "<style scoped>\n",
       "    .dataframe tbody tr th:only-of-type {\n",
       "        vertical-align: middle;\n",
       "    }\n",
       "\n",
       "    .dataframe tbody tr th {\n",
       "        vertical-align: top;\n",
       "    }\n",
       "\n",
       "    .dataframe thead th {\n",
       "        text-align: right;\n",
       "    }\n",
       "</style>\n",
       "<table border=\"1\" class=\"dataframe\">\n",
       "  <thead>\n",
       "    <tr style=\"text-align: right;\">\n",
       "      <th></th>\n",
       "      <th>Coaster_Name</th>\n",
       "      <th>Location</th>\n",
       "      <th>Status</th>\n",
       "      <th>Manufacturer</th>\n",
       "      <th>Year_Introduced</th>\n",
       "      <th>Latitude</th>\n",
       "      <th>Longitude</th>\n",
       "      <th>Type_Main</th>\n",
       "      <th>Opening_Date_Clean</th>\n",
       "      <th>Speed_Mph</th>\n",
       "      <th>Height_ft</th>\n",
       "      <th>Inversions_clean</th>\n",
       "      <th>Gforce_clean</th>\n",
       "    </tr>\n",
       "  </thead>\n",
       "  <tbody>\n",
       "    <tr>\n",
       "      <th>0</th>\n",
       "      <td>Switchback Railway</td>\n",
       "      <td>Coney Island</td>\n",
       "      <td>Removed</td>\n",
       "      <td>LaMarcus Adna Thompson</td>\n",
       "      <td>1884</td>\n",
       "      <td>40.5740</td>\n",
       "      <td>-73.9780</td>\n",
       "      <td>Wood</td>\n",
       "      <td>1884-06-16</td>\n",
       "      <td>6.0</td>\n",
       "      <td>NaN</td>\n",
       "      <td>0</td>\n",
       "      <td>2.9</td>\n",
       "    </tr>\n",
       "    <tr>\n",
       "      <th>1</th>\n",
       "      <td>Flip Flap Railway</td>\n",
       "      <td>Sea Lion Park</td>\n",
       "      <td>Removed</td>\n",
       "      <td>Lina Beecher</td>\n",
       "      <td>1895</td>\n",
       "      <td>40.5780</td>\n",
       "      <td>-73.9790</td>\n",
       "      <td>Wood</td>\n",
       "      <td>1895-01-01</td>\n",
       "      <td>NaN</td>\n",
       "      <td>NaN</td>\n",
       "      <td>1</td>\n",
       "      <td>12.0</td>\n",
       "    </tr>\n",
       "    <tr>\n",
       "      <th>2</th>\n",
       "      <td>Switchback Railway (Euclid Beach Park)</td>\n",
       "      <td>Cleveland, Ohio, United States</td>\n",
       "      <td>Closed</td>\n",
       "      <td>NaN</td>\n",
       "      <td>1896</td>\n",
       "      <td>41.5800</td>\n",
       "      <td>-81.5700</td>\n",
       "      <td>Other</td>\n",
       "      <td>NaT</td>\n",
       "      <td>NaN</td>\n",
       "      <td>NaN</td>\n",
       "      <td>0</td>\n",
       "      <td>NaN</td>\n",
       "    </tr>\n",
       "    <tr>\n",
       "      <th>3</th>\n",
       "      <td>Loop the Loop (Coney Island)</td>\n",
       "      <td>Other</td>\n",
       "      <td>Removed</td>\n",
       "      <td>Edwin Prescott</td>\n",
       "      <td>1901</td>\n",
       "      <td>40.5745</td>\n",
       "      <td>-73.9780</td>\n",
       "      <td>Steel</td>\n",
       "      <td>1901-01-01</td>\n",
       "      <td>NaN</td>\n",
       "      <td>NaN</td>\n",
       "      <td>1</td>\n",
       "      <td>NaN</td>\n",
       "    </tr>\n",
       "    <tr>\n",
       "      <th>4</th>\n",
       "      <td>Loop the Loop (Young's Pier)</td>\n",
       "      <td>Other</td>\n",
       "      <td>Removed</td>\n",
       "      <td>Edwin Prescott</td>\n",
       "      <td>1901</td>\n",
       "      <td>39.3538</td>\n",
       "      <td>-74.4342</td>\n",
       "      <td>Steel</td>\n",
       "      <td>1901-01-01</td>\n",
       "      <td>NaN</td>\n",
       "      <td>NaN</td>\n",
       "      <td>1</td>\n",
       "      <td>NaN</td>\n",
       "    </tr>\n",
       "    <tr>\n",
       "      <th>...</th>\n",
       "      <td>...</td>\n",
       "      <td>...</td>\n",
       "      <td>...</td>\n",
       "      <td>...</td>\n",
       "      <td>...</td>\n",
       "      <td>...</td>\n",
       "      <td>...</td>\n",
       "      <td>...</td>\n",
       "      <td>...</td>\n",
       "      <td>...</td>\n",
       "      <td>...</td>\n",
       "      <td>...</td>\n",
       "      <td>...</td>\n",
       "    </tr>\n",
       "    <tr>\n",
       "      <th>985</th>\n",
       "      <td>Ice Breaker (roller coaster)</td>\n",
       "      <td>SeaWorld Orlando</td>\n",
       "      <td>Under construction</td>\n",
       "      <td>Premier Rides</td>\n",
       "      <td>2022</td>\n",
       "      <td>28.4088</td>\n",
       "      <td>-81.4633</td>\n",
       "      <td>Steel</td>\n",
       "      <td>2022-02-01</td>\n",
       "      <td>52.0</td>\n",
       "      <td>NaN</td>\n",
       "      <td>0</td>\n",
       "      <td>NaN</td>\n",
       "    </tr>\n",
       "    <tr>\n",
       "      <th>986</th>\n",
       "      <td>Leviathan (Sea World)</td>\n",
       "      <td>Sea World</td>\n",
       "      <td>Under construction</td>\n",
       "      <td>Martin &amp; Vleminckx</td>\n",
       "      <td>2022</td>\n",
       "      <td>-27.9574</td>\n",
       "      <td>153.4263</td>\n",
       "      <td>Wood</td>\n",
       "      <td>2022-01-01</td>\n",
       "      <td>49.7</td>\n",
       "      <td>105.0</td>\n",
       "      <td>0</td>\n",
       "      <td>NaN</td>\n",
       "    </tr>\n",
       "    <tr>\n",
       "      <th>987</th>\n",
       "      <td>Pantheon (roller coaster)</td>\n",
       "      <td>Busch Gardens Williamsburg</td>\n",
       "      <td>Under construction</td>\n",
       "      <td>Intamin</td>\n",
       "      <td>2022</td>\n",
       "      <td>37.2339</td>\n",
       "      <td>-76.6426</td>\n",
       "      <td>Steel</td>\n",
       "      <td>2022-01-01</td>\n",
       "      <td>73.0</td>\n",
       "      <td>NaN</td>\n",
       "      <td>2</td>\n",
       "      <td>NaN</td>\n",
       "    </tr>\n",
       "    <tr>\n",
       "      <th>988</th>\n",
       "      <td>Tumbili</td>\n",
       "      <td>Kings Dominion</td>\n",
       "      <td>Under construction</td>\n",
       "      <td>S&amp;S – Sansei Technologies</td>\n",
       "      <td>2022</td>\n",
       "      <td>NaN</td>\n",
       "      <td>NaN</td>\n",
       "      <td>Steel</td>\n",
       "      <td>NaT</td>\n",
       "      <td>34.0</td>\n",
       "      <td>NaN</td>\n",
       "      <td>0</td>\n",
       "      <td>NaN</td>\n",
       "    </tr>\n",
       "    <tr>\n",
       "      <th>989</th>\n",
       "      <td>Wonder Woman Flight of Courage</td>\n",
       "      <td>Six Flags Magic Mountain</td>\n",
       "      <td>Under construction</td>\n",
       "      <td>Rocky Mountain Construction</td>\n",
       "      <td>2022</td>\n",
       "      <td>NaN</td>\n",
       "      <td>NaN</td>\n",
       "      <td>Steel</td>\n",
       "      <td>2022-01-01</td>\n",
       "      <td>58.0</td>\n",
       "      <td>NaN</td>\n",
       "      <td>3</td>\n",
       "      <td>NaN</td>\n",
       "    </tr>\n",
       "  </tbody>\n",
       "</table>\n",
       "<p>990 rows × 13 columns</p>\n",
       "</div>"
      ],
      "text/plain": [
       "                               Coaster_Name                        Location  \\\n",
       "0                        Switchback Railway                    Coney Island   \n",
       "1                         Flip Flap Railway                   Sea Lion Park   \n",
       "2    Switchback Railway (Euclid Beach Park)  Cleveland, Ohio, United States   \n",
       "3              Loop the Loop (Coney Island)                           Other   \n",
       "4              Loop the Loop (Young's Pier)                           Other   \n",
       "..                                      ...                             ...   \n",
       "985            Ice Breaker (roller coaster)                SeaWorld Orlando   \n",
       "986                   Leviathan (Sea World)                       Sea World   \n",
       "987               Pantheon (roller coaster)      Busch Gardens Williamsburg   \n",
       "988                                 Tumbili                  Kings Dominion   \n",
       "989          Wonder Woman Flight of Courage        Six Flags Magic Mountain   \n",
       "\n",
       "                 Status                 Manufacturer  Year_Introduced  \\\n",
       "0               Removed       LaMarcus Adna Thompson             1884   \n",
       "1               Removed                 Lina Beecher             1895   \n",
       "2                Closed                          NaN             1896   \n",
       "3               Removed               Edwin Prescott             1901   \n",
       "4               Removed               Edwin Prescott             1901   \n",
       "..                  ...                          ...              ...   \n",
       "985  Under construction                Premier Rides             2022   \n",
       "986  Under construction           Martin & Vleminckx             2022   \n",
       "987  Under construction                      Intamin             2022   \n",
       "988  Under construction    S&S – Sansei Technologies             2022   \n",
       "989  Under construction  Rocky Mountain Construction             2022   \n",
       "\n",
       "     Latitude  Longitude Type_Main Opening_Date_Clean  Speed_Mph  Height_ft  \\\n",
       "0     40.5740   -73.9780      Wood         1884-06-16        6.0        NaN   \n",
       "1     40.5780   -73.9790      Wood         1895-01-01        NaN        NaN   \n",
       "2     41.5800   -81.5700     Other                NaT        NaN        NaN   \n",
       "3     40.5745   -73.9780     Steel         1901-01-01        NaN        NaN   \n",
       "4     39.3538   -74.4342     Steel         1901-01-01        NaN        NaN   \n",
       "..        ...        ...       ...                ...        ...        ...   \n",
       "985   28.4088   -81.4633     Steel         2022-02-01       52.0        NaN   \n",
       "986  -27.9574   153.4263      Wood         2022-01-01       49.7      105.0   \n",
       "987   37.2339   -76.6426     Steel         2022-01-01       73.0        NaN   \n",
       "988       NaN        NaN     Steel                NaT       34.0        NaN   \n",
       "989       NaN        NaN     Steel         2022-01-01       58.0        NaN   \n",
       "\n",
       "     Inversions_clean  Gforce_clean  \n",
       "0                   0           2.9  \n",
       "1                   1          12.0  \n",
       "2                   0           NaN  \n",
       "3                   1           NaN  \n",
       "4                   1           NaN  \n",
       "..                ...           ...  \n",
       "985                 0           NaN  \n",
       "986                 0           NaN  \n",
       "987                 2           NaN  \n",
       "988                 0           NaN  \n",
       "989                 3           NaN  \n",
       "\n",
       "[990 rows x 13 columns]"
      ]
     },
     "execution_count": 25,
     "metadata": {},
     "output_type": "execute_result"
    }
   ],
   "source": [
    "df"
   ]
  },
  {
   "cell_type": "code",
   "execution_count": 26,
   "id": "49c9b6b1",
   "metadata": {
    "execution": {
     "iopub.execute_input": "2022-10-25T12:49:12.833410Z",
     "iopub.status.busy": "2022-10-25T12:49:12.832762Z",
     "iopub.status.idle": "2022-10-25T12:49:12.840175Z",
     "shell.execute_reply": "2022-10-25T12:49:12.839347Z"
    },
    "papermill": {
     "duration": 0.029782,
     "end_time": "2022-10-25T12:49:12.842473",
     "exception": false,
     "start_time": "2022-10-25T12:49:12.812691",
     "status": "completed"
    },
    "tags": []
   },
   "outputs": [],
   "source": [
    "df_corr=df[['Year_Introduced','Speed_Mph','Height_ft','Inversions_clean','Gforce_clean']].dropna().corr()"
   ]
  },
  {
   "cell_type": "code",
   "execution_count": 27,
   "id": "83292fbe",
   "metadata": {
    "execution": {
     "iopub.execute_input": "2022-10-25T12:49:12.882510Z",
     "iopub.status.busy": "2022-10-25T12:49:12.882038Z",
     "iopub.status.idle": "2022-10-25T12:49:13.248637Z",
     "shell.execute_reply": "2022-10-25T12:49:13.247830Z"
    },
    "papermill": {
     "duration": 0.389176,
     "end_time": "2022-10-25T12:49:13.250690",
     "exception": false,
     "start_time": "2022-10-25T12:49:12.861514",
     "status": "completed"
    },
    "tags": []
   },
   "outputs": [
    {
     "data": {
      "text/plain": [
       "<AxesSubplot:>"
      ]
     },
     "execution_count": 27,
     "metadata": {},
     "output_type": "execute_result"
    },
    {
     "data": {
      "image/png": "[encoded data removed]",
      "text/plain": [
       "<Figure size 432x288 with 2 Axes>"
      ]
     },
     "metadata": {},
     "output_type": "display_data"
    }
   ],
   "source": [
    "sns.heatmap(df_corr,annot=True)"
   ]
  },
  {
   "cell_type": "markdown",
   "id": "6805877a",
   "metadata": {
    "papermill": {
     "duration": 0.019392,
     "end_time": "2022-10-25T12:49:13.289604",
     "exception": false,
     "start_time": "2022-10-25T12:49:13.270212",
     "status": "completed"
    },
    "tags": []
   },
   "source": [
    "## Ask a question about the data\n",
    "1. What are the locations with the fastest roller coaster"
   ]
  },
  {
   "cell_type": "code",
   "execution_count": 28,
   "id": "3fa29d03",
   "metadata": {
    "execution": {
     "iopub.execute_input": "2022-10-25T12:49:13.330978Z",
     "iopub.status.busy": "2022-10-25T12:49:13.330230Z",
     "iopub.status.idle": "2022-10-25T12:49:13.344036Z",
     "shell.execute_reply": "2022-10-25T12:49:13.342949Z"
    },
    "papermill": {
     "duration": 0.037158,
     "end_time": "2022-10-25T12:49:13.346329",
     "exception": false,
     "start_time": "2022-10-25T12:49:13.309171",
     "status": "completed"
    },
    "tags": []
   },
   "outputs": [
    {
     "data": {
      "text/html": [
       "<div>\n",
       "<style scoped>\n",
       "    .dataframe tbody tr th:only-of-type {\n",
       "        vertical-align: middle;\n",
       "    }\n",
       "\n",
       "    .dataframe tbody tr th {\n",
       "        vertical-align: top;\n",
       "    }\n",
       "\n",
       "    .dataframe thead th {\n",
       "        text-align: right;\n",
       "    }\n",
       "</style>\n",
       "<table border=\"1\" class=\"dataframe\">\n",
       "  <thead>\n",
       "    <tr style=\"text-align: right;\">\n",
       "      <th></th>\n",
       "      <th>Speed_Mph</th>\n",
       "      <th>Location</th>\n",
       "    </tr>\n",
       "  </thead>\n",
       "  <tbody>\n",
       "    <tr>\n",
       "      <th>0</th>\n",
       "      <td>6.0</td>\n",
       "      <td>Coney Island</td>\n",
       "    </tr>\n",
       "    <tr>\n",
       "      <th>1</th>\n",
       "      <td>NaN</td>\n",
       "      <td>Sea Lion Park</td>\n",
       "    </tr>\n",
       "    <tr>\n",
       "      <th>2</th>\n",
       "      <td>NaN</td>\n",
       "      <td>Cleveland, Ohio, United States</td>\n",
       "    </tr>\n",
       "    <tr>\n",
       "      <th>3</th>\n",
       "      <td>NaN</td>\n",
       "      <td>Other</td>\n",
       "    </tr>\n",
       "    <tr>\n",
       "      <th>4</th>\n",
       "      <td>NaN</td>\n",
       "      <td>Other</td>\n",
       "    </tr>\n",
       "    <tr>\n",
       "      <th>...</th>\n",
       "      <td>...</td>\n",
       "      <td>...</td>\n",
       "    </tr>\n",
       "    <tr>\n",
       "      <th>985</th>\n",
       "      <td>52.0</td>\n",
       "      <td>SeaWorld Orlando</td>\n",
       "    </tr>\n",
       "    <tr>\n",
       "      <th>986</th>\n",
       "      <td>49.7</td>\n",
       "      <td>Sea World</td>\n",
       "    </tr>\n",
       "    <tr>\n",
       "      <th>987</th>\n",
       "      <td>73.0</td>\n",
       "      <td>Busch Gardens Williamsburg</td>\n",
       "    </tr>\n",
       "    <tr>\n",
       "      <th>988</th>\n",
       "      <td>34.0</td>\n",
       "      <td>Kings Dominion</td>\n",
       "    </tr>\n",
       "    <tr>\n",
       "      <th>989</th>\n",
       "      <td>58.0</td>\n",
       "      <td>Six Flags Magic Mountain</td>\n",
       "    </tr>\n",
       "  </tbody>\n",
       "</table>\n",
       "<p>990 rows × 2 columns</p>\n",
       "</div>"
      ],
      "text/plain": [
       "     Speed_Mph                        Location\n",
       "0          6.0                    Coney Island\n",
       "1          NaN                   Sea Lion Park\n",
       "2          NaN  Cleveland, Ohio, United States\n",
       "3          NaN                           Other\n",
       "4          NaN                           Other\n",
       "..         ...                             ...\n",
       "985       52.0                SeaWorld Orlando\n",
       "986       49.7                       Sea World\n",
       "987       73.0      Busch Gardens Williamsburg\n",
       "988       34.0                  Kings Dominion\n",
       "989       58.0        Six Flags Magic Mountain\n",
       "\n",
       "[990 rows x 2 columns]"
      ]
     },
     "execution_count": 28,
     "metadata": {},
     "output_type": "execute_result"
    }
   ],
   "source": [
    "df[['Speed_Mph','Location']]"
   ]
  },
  {
   "cell_type": "code",
   "execution_count": 29,
   "id": "af54bb00",
   "metadata": {
    "execution": {
     "iopub.execute_input": "2022-10-25T12:49:13.388081Z",
     "iopub.status.busy": "2022-10-25T12:49:13.387477Z",
     "iopub.status.idle": "2022-10-25T12:49:13.663350Z",
     "shell.execute_reply": "2022-10-25T12:49:13.662200Z"
    },
    "papermill": {
     "duration": 0.299777,
     "end_time": "2022-10-25T12:49:13.665675",
     "exception": false,
     "start_time": "2022-10-25T12:49:13.365898",
     "status": "completed"
    },
    "tags": []
   },
   "outputs": [
    {
     "data": {
      "image/png": "[encoded data removed]",
      "text/plain": [
       "<Figure size 864x360 with 1 Axes>"
      ]
     },
     "metadata": {},
     "output_type": "display_data"
    }
   ],
   "source": [
    "ax=df.query('Location!=\"Other\"').groupby('Location')['Speed_Mph'].agg(['mean','count']).query('count>=10').sort_values('mean')['mean'].plot(kind='barh',figsize=(12,5))"
   ]
  },
  {
   "cell_type": "code",
   "execution_count": null,
   "id": "61500537",
   "metadata": {
    "papermill": {
     "duration": 0.020198,
     "end_time": "2022-10-25T12:49:13.706159",
     "exception": false,
     "start_time": "2022-10-25T12:49:13.685961",
     "status": "completed"
    },
    "tags": []
   },
   "outputs": [],
   "source": []
  }
 ],
 "metadata": {
  "kernelspec": {
   "display_name": "Python 3",
   "language": "python",
   "name": "python3"
  },
  "language_info": {
   "codemirror_mode": {
    "name": "ipython",
    "version": 3
   },
   "file_extension": ".py",
   "mimetype": "text/x-python",
   "name": "python",
   "nbconvert_exporter": "python",
   "pygments_lexer": "ipython3",
   "version": "3.7.12"
  },
  "papermill": {
   "default_parameters": {},
   "duration": 21.725434,
   "end_time": "2022-10-25T12:49:14.549169",
   "environment_variables": {},
   "exception": null,
   "input_path": "__notebook__.ipynb",
   "output_path": "__notebook__.ipynb",
   "parameters": {},
   "start_time": "2022-10-25T12:48:52.823735",
   "version": "2.3.4"
  }
 },
 "nbformat": 4,
 "nbformat_minor": 5
}
